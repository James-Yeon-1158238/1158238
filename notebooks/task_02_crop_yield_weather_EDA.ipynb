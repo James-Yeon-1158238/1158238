{
 "cells": [
  {
   "cell_type": "code",
   "execution_count": 12,
   "id": "c83f5b7d",
   "metadata": {},
   "outputs": [],
   "source": [
    "## Import necessary librarise\n",
    "import pandas as pd\n",
    "import numpy as np\n",
    "import matplotlib.pyplot as plt\n",
    "import seaborn as sns\n",
    "from scipy import stats"
   ]
  },
  {
   "cell_type": "code",
   "execution_count": 13,
   "id": "3137520d",
   "metadata": {},
   "outputs": [
    {
     "data": {
      "text/html": [
       "<div>\n",
       "<style scoped>\n",
       "    .dataframe tbody tr th:only-of-type {\n",
       "        vertical-align: middle;\n",
       "    }\n",
       "\n",
       "    .dataframe tbody tr th {\n",
       "        vertical-align: top;\n",
       "    }\n",
       "\n",
       "    .dataframe thead th {\n",
       "        text-align: right;\n",
       "    }\n",
       "</style>\n",
       "<table border=\"1\" class=\"dataframe\">\n",
       "  <thead>\n",
       "    <tr style=\"text-align: right;\">\n",
       "      <th></th>\n",
       "      <th>Date</th>\n",
       "      <th>Crop_Type</th>\n",
       "      <th>Temperature</th>\n",
       "      <th>Humidity</th>\n",
       "      <th>Wind_Speed</th>\n",
       "      <th>Crop_Yield</th>\n",
       "      <th>Year</th>\n",
       "      <th>Month</th>\n",
       "      <th>Day</th>\n",
       "    </tr>\n",
       "  </thead>\n",
       "  <tbody>\n",
       "    <tr>\n",
       "      <th>0</th>\n",
       "      <td>2014-01-01</td>\n",
       "      <td>Wheat</td>\n",
       "      <td>9.440599</td>\n",
       "      <td>80.000000</td>\n",
       "      <td>10.956707</td>\n",
       "      <td>0.000000</td>\n",
       "      <td>2014</td>\n",
       "      <td>1</td>\n",
       "      <td>1</td>\n",
       "    </tr>\n",
       "    <tr>\n",
       "      <th>1</th>\n",
       "      <td>2014-01-01</td>\n",
       "      <td>Corn</td>\n",
       "      <td>20.052576</td>\n",
       "      <td>79.947424</td>\n",
       "      <td>8.591577</td>\n",
       "      <td>104.871310</td>\n",
       "      <td>2014</td>\n",
       "      <td>1</td>\n",
       "      <td>1</td>\n",
       "    </tr>\n",
       "    <tr>\n",
       "      <th>2</th>\n",
       "      <td>2014-01-01</td>\n",
       "      <td>Rice</td>\n",
       "      <td>12.143099</td>\n",
       "      <td>80.000000</td>\n",
       "      <td>7.227751</td>\n",
       "      <td>0.000000</td>\n",
       "      <td>2014</td>\n",
       "      <td>1</td>\n",
       "      <td>1</td>\n",
       "    </tr>\n",
       "    <tr>\n",
       "      <th>3</th>\n",
       "      <td>2014-01-01</td>\n",
       "      <td>Barley</td>\n",
       "      <td>19.751848</td>\n",
       "      <td>80.000000</td>\n",
       "      <td>2.682683</td>\n",
       "      <td>58.939796</td>\n",
       "      <td>2014</td>\n",
       "      <td>1</td>\n",
       "      <td>1</td>\n",
       "    </tr>\n",
       "    <tr>\n",
       "      <th>4</th>\n",
       "      <td>2014-01-01</td>\n",
       "      <td>Soybean</td>\n",
       "      <td>16.110395</td>\n",
       "      <td>80.000000</td>\n",
       "      <td>7.696070</td>\n",
       "      <td>32.970413</td>\n",
       "      <td>2014</td>\n",
       "      <td>1</td>\n",
       "      <td>1</td>\n",
       "    </tr>\n",
       "  </tbody>\n",
       "</table>\n",
       "</div>"
      ],
      "text/plain": [
       "         Date Crop_Type  Temperature   Humidity  Wind_Speed  Crop_Yield  Year  \\\n",
       "0  2014-01-01     Wheat     9.440599  80.000000   10.956707    0.000000  2014   \n",
       "1  2014-01-01      Corn    20.052576  79.947424    8.591577  104.871310  2014   \n",
       "2  2014-01-01      Rice    12.143099  80.000000    7.227751    0.000000  2014   \n",
       "3  2014-01-01    Barley    19.751848  80.000000    2.682683   58.939796  2014   \n",
       "4  2014-01-01   Soybean    16.110395  80.000000    7.696070   32.970413  2014   \n",
       "\n",
       "   Month  Day  \n",
       "0      1    1  \n",
       "1      1    1  \n",
       "2      1    1  \n",
       "3      1    1  \n",
       "4      1    1  "
      ]
     },
     "execution_count": 13,
     "metadata": {},
     "output_type": "execute_result"
    }
   ],
   "source": [
    "#read cvs file\n",
    "#df = pd.read_csv('C:\\\\Lincolnuni\\\\COMP_647\\\\project_1\\\\comp647\\\\dataset\\\\raw\\\\crop_yield_dataset.csv')\n",
    "df_weather = pd.read_csv('../dataset/processed/crop_weather_data.csv')\n",
    "\n",
    "# Display the first 5 rows\n",
    "df_weather.head()"
   ]
  },
  {
   "cell_type": "code",
   "execution_count": 14,
   "id": "453dfb0f",
   "metadata": {},
   "outputs": [
    {
     "name": "stdout",
     "output_type": "stream",
     "text": [
      "Date           0\n",
      "Crop_Type      0\n",
      "Temperature    0\n",
      "Humidity       0\n",
      "Wind_Speed     0\n",
      "Crop_Yield     0\n",
      "Year           0\n",
      "Month          0\n",
      "Day            0\n",
      "dtype: int64\n"
     ]
    }
   ],
   "source": [
    "print(df_weather.isnull().sum())"
   ]
  },
  {
   "cell_type": "code",
   "execution_count": 15,
   "id": "a82dfd65",
   "metadata": {},
   "outputs": [
    {
     "name": "stdout",
     "output_type": "stream",
     "text": [
      "<class 'pandas.core.frame.DataFrame'>\n",
      "RangeIndex: 36520 entries, 0 to 36519\n",
      "Data columns (total 9 columns):\n",
      " #   Column       Non-Null Count  Dtype  \n",
      "---  ------       --------------  -----  \n",
      " 0   Date         36520 non-null  object \n",
      " 1   Crop_Type    36520 non-null  object \n",
      " 2   Temperature  36520 non-null  float64\n",
      " 3   Humidity     36520 non-null  float64\n",
      " 4   Wind_Speed   36520 non-null  float64\n",
      " 5   Crop_Yield   36520 non-null  float64\n",
      " 6   Year         36520 non-null  int64  \n",
      " 7   Month        36520 non-null  int64  \n",
      " 8   Day          36520 non-null  int64  \n",
      "dtypes: float64(4), int64(3), object(2)\n",
      "memory usage: 2.5+ MB\n",
      "None\n"
     ]
    }
   ],
   "source": [
    "#Print data info (data types, non-null counts, memory usage)\n",
    "print(df_weather.info())"
   ]
  },
  {
   "cell_type": "code",
   "execution_count": 20,
   "id": "dc9bef7b",
   "metadata": {},
   "outputs": [
    {
     "name": "stdout",
     "output_type": "stream",
     "text": [
      "   Temperature  Temperature_int  Humidity  Humidity_int  Wind_Speed  \\\n",
      "0            9                9        80            80          11   \n",
      "1           20               20        80            80           9   \n",
      "2           12               12        80            80           7   \n",
      "3           20               20        80            80           3   \n",
      "4           16               16        80            80           8   \n",
      "\n",
      "   Wind_Speed_int  \n",
      "0              11  \n",
      "1               9  \n",
      "2               7  \n",
      "3               3  \n",
      "4               8  \n"
     ]
    }
   ],
   "source": [
    "# Round Temperature, Humidity, and Wind_Speed to nearest integer\n",
    "df_weather['Temperature_int'] = df_weather['Temperature'].round().astype(int)\n",
    "df_weather['Humidity_int'] = df_weather['Humidity'].round().astype(int)\n",
    "df_weather['Wind_Speed_int'] = df_weather['Wind_Speed'].round().astype(int)\n",
    "\n",
    "print(df_weather[['Temperature', 'Temperature_int',\n",
    "                  'Humidity', 'Humidity_int',\n",
    "                  'Wind_Speed', 'Wind_Speed_int']].head())"
   ]
  },
  {
   "cell_type": "code",
   "execution_count": 21,
   "id": "37364079",
   "metadata": {},
   "outputs": [
    {
     "name": "stdout",
     "output_type": "stream",
     "text": [
      "   Temperature  Humidity  Wind_Speed\n",
      "0            9        80          11\n",
      "1           20        80           9\n",
      "2           12        80           7\n",
      "3           20        80           3\n",
      "4           16        80           8\n"
     ]
    }
   ],
   "source": [
    "# Round Temperature, Humidity, and Wind_Speed to nearest integer\n",
    "# Overwrite the existing columns instead of creating new ones\n",
    "df_weather['Temperature'] = df_weather['Temperature'].round().astype(int)\n",
    "df_weather['Humidity']    = df_weather['Humidity'].round().astype(int)\n",
    "df_weather['Wind_Speed']  = df_weather['Wind_Speed'].round().astype(int)\n",
    "\n",
    "# Print to verify the changes\n",
    "print(df_weather[['Temperature', 'Humidity', 'Wind_Speed']].head())"
   ]
  },
  {
   "cell_type": "code",
   "execution_count": 22,
   "id": "a465b20d",
   "metadata": {},
   "outputs": [
    {
     "name": "stdout",
     "output_type": "stream",
     "text": [
      "         Date Crop_Type  Temperature  Humidity  Wind_Speed  Crop_Yield  Year  \\\n",
      "0  2014-01-01     Wheat            9        80          11    0.000000  2014   \n",
      "1  2014-01-01      Corn           20        80           9  104.871310  2014   \n",
      "2  2014-01-01      Rice           12        80           7    0.000000  2014   \n",
      "3  2014-01-01    Barley           20        80           3   58.939796  2014   \n",
      "4  2014-01-01   Soybean           16        80           8   32.970413  2014   \n",
      "\n",
      "   Month  Day  \n",
      "0      1    1  \n",
      "1      1    1  \n",
      "2      1    1  \n",
      "3      1    1  \n",
      "4      1    1  \n"
     ]
    }
   ],
   "source": [
    "# Remove integer-converted columns (Temperature_int, Humidity_int, Wind_Speed_int)\n",
    "df_weather = df_weather.drop(columns=['Temperature_int', 'Humidity_int', 'Wind_Speed_int'])\n",
    "\n",
    "# Verify columns are removed\n",
    "print(df_weather.head())"
   ]
  },
  {
   "cell_type": "code",
   "execution_count": 26,
   "id": "33a804c7",
   "metadata": {},
   "outputs": [
    {
     "data": {
      "text/html": [
       "<div>\n",
       "<style scoped>\n",
       "    .dataframe tbody tr th:only-of-type {\n",
       "        vertical-align: middle;\n",
       "    }\n",
       "\n",
       "    .dataframe tbody tr th {\n",
       "        vertical-align: top;\n",
       "    }\n",
       "\n",
       "    .dataframe thead th {\n",
       "        text-align: right;\n",
       "    }\n",
       "</style>\n",
       "<table border=\"1\" class=\"dataframe\">\n",
       "  <thead>\n",
       "    <tr style=\"text-align: right;\">\n",
       "      <th></th>\n",
       "      <th>Date</th>\n",
       "      <th>Crop_Type</th>\n",
       "      <th>Temperature</th>\n",
       "      <th>Humidity</th>\n",
       "      <th>Wind_Speed</th>\n",
       "      <th>Crop_Yield</th>\n",
       "      <th>Year</th>\n",
       "      <th>Month</th>\n",
       "      <th>Day</th>\n",
       "    </tr>\n",
       "  </thead>\n",
       "  <tbody>\n",
       "    <tr>\n",
       "      <th>0</th>\n",
       "      <td>2014-01-01</td>\n",
       "      <td>Wheat</td>\n",
       "      <td>9</td>\n",
       "      <td>80</td>\n",
       "      <td>11</td>\n",
       "      <td>0.000000</td>\n",
       "      <td>2014</td>\n",
       "      <td>1</td>\n",
       "      <td>1</td>\n",
       "    </tr>\n",
       "    <tr>\n",
       "      <th>1</th>\n",
       "      <td>2014-01-01</td>\n",
       "      <td>Corn</td>\n",
       "      <td>20</td>\n",
       "      <td>80</td>\n",
       "      <td>9</td>\n",
       "      <td>104.871310</td>\n",
       "      <td>2014</td>\n",
       "      <td>1</td>\n",
       "      <td>1</td>\n",
       "    </tr>\n",
       "    <tr>\n",
       "      <th>2</th>\n",
       "      <td>2014-01-01</td>\n",
       "      <td>Rice</td>\n",
       "      <td>12</td>\n",
       "      <td>80</td>\n",
       "      <td>7</td>\n",
       "      <td>0.000000</td>\n",
       "      <td>2014</td>\n",
       "      <td>1</td>\n",
       "      <td>1</td>\n",
       "    </tr>\n",
       "    <tr>\n",
       "      <th>3</th>\n",
       "      <td>2014-01-01</td>\n",
       "      <td>Barley</td>\n",
       "      <td>20</td>\n",
       "      <td>80</td>\n",
       "      <td>3</td>\n",
       "      <td>58.939796</td>\n",
       "      <td>2014</td>\n",
       "      <td>1</td>\n",
       "      <td>1</td>\n",
       "    </tr>\n",
       "    <tr>\n",
       "      <th>4</th>\n",
       "      <td>2014-01-01</td>\n",
       "      <td>Soybean</td>\n",
       "      <td>16</td>\n",
       "      <td>80</td>\n",
       "      <td>8</td>\n",
       "      <td>32.970413</td>\n",
       "      <td>2014</td>\n",
       "      <td>1</td>\n",
       "      <td>1</td>\n",
       "    </tr>\n",
       "  </tbody>\n",
       "</table>\n",
       "</div>"
      ],
      "text/plain": [
       "         Date Crop_Type  Temperature  Humidity  Wind_Speed  Crop_Yield  Year  \\\n",
       "0  2014-01-01     Wheat            9        80          11    0.000000  2014   \n",
       "1  2014-01-01      Corn           20        80           9  104.871310  2014   \n",
       "2  2014-01-01      Rice           12        80           7    0.000000  2014   \n",
       "3  2014-01-01    Barley           20        80           3   58.939796  2014   \n",
       "4  2014-01-01   Soybean           16        80           8   32.970413  2014   \n",
       "\n",
       "   Month  Day  \n",
       "0      1    1  \n",
       "1      1    1  \n",
       "2      1    1  \n",
       "3      1    1  \n",
       "4      1    1  "
      ]
     },
     "execution_count": 26,
     "metadata": {},
     "output_type": "execute_result"
    }
   ],
   "source": [
    "# Display the first 5 rows\n",
    "df_weather.head()"
   ]
  },
  {
   "cell_type": "code",
   "execution_count": 27,
   "id": "e3e98d32",
   "metadata": {},
   "outputs": [
    {
     "name": "stdout",
     "output_type": "stream",
     "text": [
      "        Temperature      Humidity    Wind_Speed    Crop_Yield          Year  \\\n",
      "count  36520.000000  36520.000000  36520.000000  36520.000000  36520.000000   \n",
      "mean      23.811528     74.259502     10.021440     26.878480   2018.499726   \n",
      "std        8.926331      6.772669      3.010711     25.740936      2.871939   \n",
      "min       -4.000000     46.000000     -3.000000      0.000000   2014.000000   \n",
      "25%       17.000000     70.000000      8.000000      0.000000   2016.000000   \n",
      "50%       23.000000     77.000000     10.000000     23.366344   2018.500000   \n",
      "75%       30.000000     80.000000     12.000000     46.415729   2021.000000   \n",
      "max       54.000000     80.000000     23.000000    136.711982   2023.000000   \n",
      "\n",
      "              Month           Day  \n",
      "count  36520.000000  36520.000000  \n",
      "mean       6.523549     15.727820  \n",
      "std        3.448580      8.799445  \n",
      "min        1.000000      1.000000  \n",
      "25%        4.000000      8.000000  \n",
      "50%        7.000000     16.000000  \n",
      "75%       10.000000     23.000000  \n",
      "max       12.000000     31.000000  \n"
     ]
    }
   ],
   "source": [
    "#Display summary statistics for numerical columns\n",
    "print(df_weather.describe())"
   ]
  },
  {
   "cell_type": "code",
   "execution_count": 29,
   "id": "43507656",
   "metadata": {},
   "outputs": [
    {
     "name": "stdout",
     "output_type": "stream",
     "text": [
      "Total records and zero-yield records by Crop_Type\n",
      "   Crop_Type  Total_Count  Zero_Yield_Count  Zero_Yield_Ratio(%)\n",
      "0     Barley         3652              1131                30.97\n",
      "1       Corn         3652              1128                30.89\n",
      "2     Cotton         3652              1111                30.42\n",
      "3     Potato         3652              1093                29.93\n",
      "4       Rice         3652              1083                29.65\n",
      "5    Soybean         3652              1087                29.76\n",
      "6  Sugarcane         3652              1096                30.01\n",
      "7  Sunflower         3652              1105                30.26\n",
      "8     Tomato         3652              1086                29.74\n",
      "9      Wheat         3652              1105                30.26\n"
     ]
    }
   ],
   "source": [
    "# Calculate total number of records per Crop_Type\n",
    "total_counts = df_weather.groupby('Crop_Type').size().reset_index(name='Total_Count')\n",
    "\n",
    "# Calculate number of zero-yield records per Crop_Type\n",
    "zero_counts = (\n",
    "    df_weather[df_weather['Crop_Yield'] == 0]\n",
    "    .groupby('Crop_Type')\n",
    "    .size()\n",
    "    .reset_index(name='Zero_Yield_Count')\n",
    ")\n",
    "\n",
    "# Merge both results into one DataFrame\n",
    "result = pd.merge(total_counts, zero_counts, on='Crop_Type', how='left')\n",
    "\n",
    "# Replace NaN (if a crop has no zero yields) with 0\n",
    "result['Zero_Yield_Count'] = result['Zero_Yield_Count'].fillna(0).astype(int)\n",
    "\n",
    "# Add ratio (%) of zero-yield records\n",
    "result['Zero_Yield_Ratio(%)'] = (\n",
    "    result['Zero_Yield_Count'] / result['Total_Count'] * 100\n",
    ").round(2)\n",
    "\n",
    "print(\"Total records and zero-yield records by Crop_Type\")\n",
    "print(result)"
   ]
  },
  {
   "cell_type": "code",
   "execution_count": 30,
   "id": "6e74adc2",
   "metadata": {},
   "outputs": [
    {
     "name": "stdout",
     "output_type": "stream",
     "text": [
      "Number of records with Crop_Yield = 0: 11025\n",
      "\n",
      "Examples of rows with zero yield:\n",
      "          Date  Crop_Type  Temperature  Humidity  Wind_Speed  Crop_Yield  \\\n",
      "0   2014-01-01      Wheat            9        80          11         0.0   \n",
      "2   2014-01-01       Rice           12        80           7         0.0   \n",
      "6   2014-01-01  Sugarcane           14        80          10         0.0   \n",
      "12  2014-01-02       Rice           14        80           9         0.0   \n",
      "14  2014-01-02    Soybean            9        80          10         0.0   \n",
      "\n",
      "    Year  Month  Day  \n",
      "0   2014      1    1  \n",
      "2   2014      1    1  \n",
      "6   2014      1    1  \n",
      "12  2014      1    2  \n",
      "14  2014      1    2  \n"
     ]
    }
   ],
   "source": [
    "# Check if there are any rows with Crop_Yield = 0\n",
    "zero_yield = df_weather[df_weather['Crop_Yield'] == 0]\n",
    "\n",
    "# Print how many records have zero yield\n",
    "print(f\"Number of records with Crop_Yield = 0: {len(zero_yield)}\")\n",
    "\n",
    "# If any, show a preview of them\n",
    "if not zero_yield.empty:\n",
    "    print(\"\\nExamples of rows with zero yield:\")\n",
    "    print(zero_yield.head())"
   ]
  },
  {
   "cell_type": "code",
   "execution_count": null,
   "id": "ce1540e0",
   "metadata": {},
   "outputs": [
    {
     "name": "stdout",
     "output_type": "stream",
     "text": [
      "   Temperature Temp_Category\n",
      "0            9           Low\n",
      "1           20        Medium\n",
      "2           12        Medium\n",
      "3           20        Medium\n",
      "4           16        Medium\n"
     ]
    }
   ],
   "source": [
    "# Define custom bins (in °C)\n",
    "bins = [-10, 0, 10, 20, 30, 55]  # 예: 0~10, 10~20, 20~30, 30~40\n",
    "labels = ['Very Low', 'Low', 'Medium', 'High', 'Very High']\n",
    "\n",
    "# Create a new column 'Temp_Category' based on the bins\n",
    "df_weather['Temp_Category'] = pd.cut(df_weather['Temperature'], bins=bins, labels=labels, include_lowest=True)\n",
    "\n",
    "print(df_weather[['Temperature', 'Temp_Category']].head())"
   ]
  }
 ],
 "metadata": {
  "kernelspec": {
   "display_name": ".venv",
   "language": "python",
   "name": "python3"
  },
  "language_info": {
   "codemirror_mode": {
    "name": "ipython",
    "version": 3
   },
   "file_extension": ".py",
   "mimetype": "text/x-python",
   "name": "python",
   "nbconvert_exporter": "python",
   "pygments_lexer": "ipython3",
   "version": "3.13.0"
  }
 },
 "nbformat": 4,
 "nbformat_minor": 5
}
