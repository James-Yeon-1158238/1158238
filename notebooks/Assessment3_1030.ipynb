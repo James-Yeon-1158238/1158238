{
 "cells": [
  {
   "cell_type": "code",
   "execution_count": 1,
   "id": "c83f5b7d",
   "metadata": {},
   "outputs": [],
   "source": [
    "## Import necessary librarise\n",
    "import pandas as pd\n",
    "import numpy as np\n",
    "import matplotlib.pyplot as plt\n",
    "import seaborn as sns\n",
    "from scipy import stats\n",
    "from sklearn.decomposition import PCA\n",
    "from sklearn.preprocessing import StandardScaler\n",
    "from mpl_toolkits.mplot3d import Axes3D"
   ]
  },
  {
   "cell_type": "code",
   "execution_count": 2,
   "id": "3137520d",
   "metadata": {},
   "outputs": [
    {
     "data": {
      "text/html": [
       "<div>\n",
       "<style scoped>\n",
       "    .dataframe tbody tr th:only-of-type {\n",
       "        vertical-align: middle;\n",
       "    }\n",
       "\n",
       "    .dataframe tbody tr th {\n",
       "        vertical-align: top;\n",
       "    }\n",
       "\n",
       "    .dataframe thead th {\n",
       "        text-align: right;\n",
       "    }\n",
       "</style>\n",
       "<table border=\"1\" class=\"dataframe\">\n",
       "  <thead>\n",
       "    <tr style=\"text-align: right;\">\n",
       "      <th></th>\n",
       "      <th>Date</th>\n",
       "      <th>Crop_Type</th>\n",
       "      <th>Soil_Type</th>\n",
       "      <th>Soil_pH</th>\n",
       "      <th>Temperature</th>\n",
       "      <th>Humidity</th>\n",
       "      <th>Wind_Speed</th>\n",
       "      <th>N</th>\n",
       "      <th>P</th>\n",
       "      <th>K</th>\n",
       "      <th>Crop_Yield</th>\n",
       "      <th>Soil_Quality</th>\n",
       "      <th>Year</th>\n",
       "      <th>Month</th>\n",
       "      <th>Day</th>\n",
       "      <th>Temperature_orig</th>\n",
       "      <th>Humidity_orig</th>\n",
       "      <th>Wind_Speed_orig</th>\n",
       "      <th>Soil_Quality_orig</th>\n",
       "    </tr>\n",
       "  </thead>\n",
       "  <tbody>\n",
       "    <tr>\n",
       "      <th>0</th>\n",
       "      <td>2014-01-01</td>\n",
       "      <td>Wheat</td>\n",
       "      <td>Peaty</td>\n",
       "      <td>5.50</td>\n",
       "      <td>9</td>\n",
       "      <td>80</td>\n",
       "      <td>11</td>\n",
       "      <td>60.5</td>\n",
       "      <td>45.0</td>\n",
       "      <td>31.5</td>\n",
       "      <td>0.000000</td>\n",
       "      <td>23</td>\n",
       "      <td>2014</td>\n",
       "      <td>1</td>\n",
       "      <td>1</td>\n",
       "      <td>9.440599</td>\n",
       "      <td>80.000000</td>\n",
       "      <td>10.956707</td>\n",
       "      <td>22.833333</td>\n",
       "    </tr>\n",
       "    <tr>\n",
       "      <th>1</th>\n",
       "      <td>2014-01-01</td>\n",
       "      <td>Corn</td>\n",
       "      <td>Loamy</td>\n",
       "      <td>6.50</td>\n",
       "      <td>20</td>\n",
       "      <td>80</td>\n",
       "      <td>9</td>\n",
       "      <td>84.0</td>\n",
       "      <td>66.0</td>\n",
       "      <td>50.0</td>\n",
       "      <td>104.871310</td>\n",
       "      <td>67</td>\n",
       "      <td>2014</td>\n",
       "      <td>1</td>\n",
       "      <td>1</td>\n",
       "      <td>20.052576</td>\n",
       "      <td>79.947424</td>\n",
       "      <td>8.591577</td>\n",
       "      <td>66.666667</td>\n",
       "    </tr>\n",
       "    <tr>\n",
       "      <th>2</th>\n",
       "      <td>2014-01-01</td>\n",
       "      <td>Rice</td>\n",
       "      <td>Peaty</td>\n",
       "      <td>5.50</td>\n",
       "      <td>12</td>\n",
       "      <td>80</td>\n",
       "      <td>7</td>\n",
       "      <td>71.5</td>\n",
       "      <td>54.0</td>\n",
       "      <td>38.5</td>\n",
       "      <td>0.000000</td>\n",
       "      <td>27</td>\n",
       "      <td>2014</td>\n",
       "      <td>1</td>\n",
       "      <td>1</td>\n",
       "      <td>12.143099</td>\n",
       "      <td>80.000000</td>\n",
       "      <td>7.227751</td>\n",
       "      <td>27.333333</td>\n",
       "    </tr>\n",
       "    <tr>\n",
       "      <th>3</th>\n",
       "      <td>2014-01-01</td>\n",
       "      <td>Barley</td>\n",
       "      <td>Sandy</td>\n",
       "      <td>6.75</td>\n",
       "      <td>20</td>\n",
       "      <td>80</td>\n",
       "      <td>3</td>\n",
       "      <td>50.0</td>\n",
       "      <td>40.0</td>\n",
       "      <td>30.0</td>\n",
       "      <td>58.939796</td>\n",
       "      <td>35</td>\n",
       "      <td>2014</td>\n",
       "      <td>1</td>\n",
       "      <td>1</td>\n",
       "      <td>19.751848</td>\n",
       "      <td>80.000000</td>\n",
       "      <td>2.682683</td>\n",
       "      <td>35.000000</td>\n",
       "    </tr>\n",
       "    <tr>\n",
       "      <th>4</th>\n",
       "      <td>2014-01-01</td>\n",
       "      <td>Soybean</td>\n",
       "      <td>Peaty</td>\n",
       "      <td>5.50</td>\n",
       "      <td>16</td>\n",
       "      <td>80</td>\n",
       "      <td>8</td>\n",
       "      <td>49.5</td>\n",
       "      <td>45.0</td>\n",
       "      <td>38.5</td>\n",
       "      <td>32.970413</td>\n",
       "      <td>22</td>\n",
       "      <td>2014</td>\n",
       "      <td>1</td>\n",
       "      <td>1</td>\n",
       "      <td>16.110395</td>\n",
       "      <td>80.000000</td>\n",
       "      <td>7.696070</td>\n",
       "      <td>22.166667</td>\n",
       "    </tr>\n",
       "  </tbody>\n",
       "</table>\n",
       "</div>"
      ],
      "text/plain": [
       "         Date Crop_Type Soil_Type  Soil_pH  Temperature  Humidity  Wind_Speed  \\\n",
       "0  2014-01-01     Wheat     Peaty     5.50            9        80          11   \n",
       "1  2014-01-01      Corn     Loamy     6.50           20        80           9   \n",
       "2  2014-01-01      Rice     Peaty     5.50           12        80           7   \n",
       "3  2014-01-01    Barley     Sandy     6.75           20        80           3   \n",
       "4  2014-01-01   Soybean     Peaty     5.50           16        80           8   \n",
       "\n",
       "      N     P     K  Crop_Yield  Soil_Quality  Year  Month  Day  \\\n",
       "0  60.5  45.0  31.5    0.000000            23  2014      1    1   \n",
       "1  84.0  66.0  50.0  104.871310            67  2014      1    1   \n",
       "2  71.5  54.0  38.5    0.000000            27  2014      1    1   \n",
       "3  50.0  40.0  30.0   58.939796            35  2014      1    1   \n",
       "4  49.5  45.0  38.5   32.970413            22  2014      1    1   \n",
       "\n",
       "   Temperature_orig  Humidity_orig  Wind_Speed_orig  Soil_Quality_orig  \n",
       "0          9.440599      80.000000        10.956707          22.833333  \n",
       "1         20.052576      79.947424         8.591577          66.666667  \n",
       "2         12.143099      80.000000         7.227751          27.333333  \n",
       "3         19.751848      80.000000         2.682683          35.000000  \n",
       "4         16.110395      80.000000         7.696070          22.166667  "
      ]
     },
     "execution_count": 2,
     "metadata": {},
     "output_type": "execute_result"
    }
   ],
   "source": [
    "#read cvs file\n",
    "df = pd.read_csv('../dataset/processed/crop_yield_cleansing_data.csv')\n",
    "\n",
    "# Display the first 5 rows\n",
    "df.head()"
   ]
  },
  {
   "cell_type": "code",
   "execution_count": 4,
   "id": "a82dfd65",
   "metadata": {},
   "outputs": [
    {
     "name": "stdout",
     "output_type": "stream",
     "text": [
      "<class 'pandas.core.frame.DataFrame'>\n",
      "RangeIndex: 36211 entries, 0 to 36210\n",
      "Data columns (total 19 columns):\n",
      " #   Column             Non-Null Count  Dtype  \n",
      "---  ------             --------------  -----  \n",
      " 0   Date               36211 non-null  object \n",
      " 1   Crop_Type          36211 non-null  object \n",
      " 2   Soil_Type          36211 non-null  object \n",
      " 3   Soil_pH            36211 non-null  float64\n",
      " 4   Temperature        36211 non-null  int64  \n",
      " 5   Humidity           36211 non-null  int64  \n",
      " 6   Wind_Speed         36211 non-null  int64  \n",
      " 7   N                  36211 non-null  float64\n",
      " 8   P                  36211 non-null  float64\n",
      " 9   K                  36211 non-null  float64\n",
      " 10  Crop_Yield         36211 non-null  float64\n",
      " 11  Soil_Quality       36211 non-null  int64  \n",
      " 12  Year               36211 non-null  int64  \n",
      " 13  Month              36211 non-null  int64  \n",
      " 14  Day                36211 non-null  int64  \n",
      " 15  Temperature_orig   36211 non-null  float64\n",
      " 16  Humidity_orig      36211 non-null  float64\n",
      " 17  Wind_Speed_orig    36211 non-null  float64\n",
      " 18  Soil_Quality_orig  36211 non-null  float64\n",
      "dtypes: float64(9), int64(7), object(3)\n",
      "memory usage: 5.2+ MB\n",
      "None\n"
     ]
    }
   ],
   "source": [
    "#Print data info (data types, non-null counts, memory usage)\n",
    "print(df.info())"
   ]
  },
  {
   "cell_type": "code",
   "execution_count": 5,
   "id": "e3e98d32",
   "metadata": {},
   "outputs": [
    {
     "name": "stdout",
     "output_type": "stream",
     "text": [
      "            Soil_pH  Temperature      Humidity    Wind_Speed             N  \\\n",
      "count  36211.000000  36211.00000  36211.000000  36211.000000  36211.000000   \n",
      "mean       6.602386     23.70172     74.360636     10.017674     66.015037   \n",
      "std        0.817180      8.79772      6.621080      2.958372     10.888556   \n",
      "min        5.500000     -4.00000     55.000000      2.000000     45.000000   \n",
      "25%        6.250000     17.00000     70.000000      8.000000     58.500000   \n",
      "50%        6.500000     23.00000     77.000000     10.000000     65.000000   \n",
      "75%        6.750000     30.00000     80.000000     12.000000     71.500000   \n",
      "max        8.000000     45.00000     80.000000     18.000000     91.000000   \n",
      "\n",
      "                  P             K    Crop_Yield  Soil_Quality          Year  \\\n",
      "count  36211.000000  36211.000000  36211.000000  36211.000000  36211.000000   \n",
      "mean      53.017591     42.020684     27.009032     37.528817   2018.499710   \n",
      "std        8.812486      8.538663     25.742822     17.702429      2.871532   \n",
      "min       36.000000     27.000000      0.000000     13.000000   2014.000000   \n",
      "25%       45.000000     35.000000      0.000000     22.000000   2016.000000   \n",
      "50%       54.000000     42.000000     23.608714     36.000000   2018.000000   \n",
      "75%       60.000000     49.500000     46.532949     49.000000   2021.000000   \n",
      "max       72.000000     60.000000    136.711982     74.000000   2023.000000   \n",
      "\n",
      "              Month           Day  Temperature_orig  Humidity_orig  \\\n",
      "count  36211.000000  36211.000000      36211.000000   36211.000000   \n",
      "mean       6.522990     15.730220         23.704391      74.357566   \n",
      "std        3.455719      8.799271          8.792117       6.616237   \n",
      "min        1.000000      1.000000         -3.540176      54.506338   \n",
      "25%        4.000000      8.000000         17.146200      69.854435   \n",
      "50%        7.000000     16.000000         22.847626      77.152374   \n",
      "75%       10.000000     23.000000         30.145565      80.000000   \n",
      "max       12.000000     31.000000         45.493662      80.000000   \n",
      "\n",
      "       Wind_Speed_orig  Soil_Quality_orig  \n",
      "count     36211.000000       36211.000000  \n",
      "mean         10.016435          37.515147  \n",
      "std           2.946969          17.708023  \n",
      "min           1.501803          13.291667  \n",
      "25%           7.990652          22.500000  \n",
      "50%           9.996995          35.583333  \n",
      "75%          12.026470          49.291667  \n",
      "max          18.479962          74.333333  \n"
     ]
    }
   ],
   "source": [
    "#Display summary statistics for numerical columns\n",
    "print(df.describe())"
   ]
  },
  {
   "cell_type": "markdown",
   "id": "9e477be8",
   "metadata": {},
   "source": [
    "One-Way ANOVA"
   ]
  },
  {
   "cell_type": "code",
   "execution_count": null,
   "id": "99404028",
   "metadata": {},
   "outputs": [
    {
     "name": "stdout",
     "output_type": "stream",
     "text": [
      "F-statistic: 21.79333727374859\n",
      "p-value: 2.7291199204263177e-37\n"
     ]
    }
   ],
   "source": [
    "import pandas as pd\n",
    "from scipy.stats import f_oneway\n",
    "\n",
    "groups = [group[\"Crop_Yield\"].values for name, group in df.groupby(\"Crop_Type\")]\n",
    "\n",
    "f_stat, p_value = f_oneway(*groups)\n",
    "\n",
    "print(\"F-statistic:\", f_stat)\n",
    "print(\"p-value:\", p_value)"
   ]
  },
  {
   "cell_type": "markdown",
   "id": "775b65b2",
   "metadata": {},
   "source": [
    "F-statistic = 21.79 → 모델의 설명력이 높음\n",
    "p-value ≈ 0.000… → 모델이 우연히 만들어졌을 가능성이 사실상 0에 가까움\n",
    "결론: 모델은 유의미하며, 예측에 사용하는 변수들이 실제로 통계적으로 유효하다."
   ]
  },
  {
   "cell_type": "code",
   "execution_count": null,
   "id": "7edc9014",
   "metadata": {},
   "outputs": [
    {
     "name": "stdout",
     "output_type": "stream",
     "text": [
      "                                 sum_sq       df           F        PR(>F)\n",
      "C(Crop_Type)               1.293107e+05      9.0   22.824958  3.164856e-39\n",
      "C(Soil_Type)               1.072639e+06      4.0  426.002061  0.000000e+00\n",
      "C(Crop_Type):C(Soil_Type)  3.153525e+04     36.0    1.391592  5.950251e-02\n",
      "Residual                   2.276262e+07  36161.0         NaN           NaN\n"
     ]
    }
   ],
   "source": [
    "# Two-Way ANOVA\n",
    "# 두 개의 범주형 요인(Crop_Type + Soil_Type)이 수확량에 어떤 영향을 미치는지\n",
    "# **그리고 두 요인의 상호작용(interaction)**이 있는지도 확인할 수 있습니다.\n",
    "# This test examines how two categorical factors (Crop_Type and Soil_Type)\n",
    "# affect the dependent variable (Crop_Yield).\n",
    "# It also checks whether there is an *interaction effect* between the two factors.\n",
    "\n",
    "\n",
    "import statsmodels.api as sm\n",
    "from statsmodels.formula.api import ols\n",
    "\n",
    "# 모델식: Crop_Yield ~ Crop_Type + Soil_Type + Crop_Type:Soil_Type\n",
    "# Define the model formula:\n",
    "# Crop_Yield ~ Crop_Type + Soil_Type + Crop_Type:Soil_Type\n",
    "# The interaction term (Crop_Type:Soil_Type) tests whether the effect of one\n",
    "# factor depends on the level of the other factor.\n",
    "\n",
    "model = ols('Crop_Yield ~ C(Crop_Type) + C(Soil_Type) + C(Crop_Type):C(Soil_Type)', data=df).fit()\n",
    "\n",
    "anova_table = sm.stats.anova_lm(model, typ=2)\n",
    "print(anova_table)"
   ]
  },
  {
   "cell_type": "markdown",
   "id": "f0941e50",
   "metadata": {},
   "source": [
    "🧪 Tukey HSD란 무엇인가?\n",
    "\n",
    "Tukey’s HSD (Honestly Significant Difference) 검정은\n",
    "ANOVA(분산분석) 를 수행한 이후(post-hoc) 에 사용하는 사후 분석(post-hoc test) 입니다.\n",
    "\n",
    "“ANOVA 결과에서 유의미한 차이가 있다고 나왔는데,\n",
    "도대체 어떤 그룹끼리 차이가 있는 걸까?”\n",
    "를 알려주는 검정이에요."
   ]
  },
  {
   "cell_type": "code",
   "execution_count": 36,
   "id": "d1eca4c7",
   "metadata": {},
   "outputs": [
    {
     "name": "stdout",
     "output_type": "stream",
     "text": [
      "   Multiple Comparison of Means - Tukey HSD, FWER=0.05    \n",
      "==========================================================\n",
      "  group1    group2  meandiff p-adj   lower   upper  reject\n",
      "----------------------------------------------------------\n",
      "   Barley      Corn    2.705 0.0003  0.7955  4.6145   True\n",
      "   Barley    Cotton   3.6385    0.0   1.729   5.548   True\n",
      "   Barley    Potato    0.601 0.9926  -1.308  2.5099  False\n",
      "   Barley      Rice   3.1333    0.0  1.2239  5.0427   True\n",
      "   Barley   Soybean   0.3545 0.9999 -1.5549  2.2638  False\n",
      "   Barley Sugarcane   3.1726    0.0  1.2629  5.0822   True\n",
      "   Barley Sunflower   1.8574 0.0646 -0.0523   3.767  False\n",
      "   Barley    Tomato  -2.8203 0.0001 -4.7307 -0.9099   True\n",
      "   Barley     Wheat   0.2672    1.0 -1.6426  2.1769  False\n",
      "     Corn    Cotton   0.9335  0.873 -0.9755  2.8425  False\n",
      "     Corn    Potato   -2.104 0.0175 -4.0125 -0.1956   True\n",
      "     Corn      Rice   0.4283 0.9995 -1.4805  2.3371  False\n",
      "     Corn   Soybean  -2.3505 0.0039 -4.2593 -0.4417   True\n",
      "     Corn Sugarcane   0.4676 0.9989 -1.4415  2.3767  False\n",
      "     Corn Sunflower  -0.8476 0.9262 -2.7567  1.0615  False\n",
      "     Corn    Tomato  -5.5253    0.0 -7.4352 -3.6154   True\n",
      "     Corn     Wheat  -2.4378 0.0022  -4.347 -0.5286   True\n",
      "   Cotton    Potato  -3.0375    0.0  -4.946 -1.1291   True\n",
      "   Cotton      Rice  -0.5052  0.998  -2.414  1.4036  False\n",
      "   Cotton   Soybean   -3.284    0.0 -5.1928 -1.3752   True\n",
      "   Cotton Sugarcane  -0.4659 0.9989  -2.375  1.4432  False\n",
      "   Cotton Sunflower  -1.7811 0.0918 -3.6902   0.128  False\n",
      "   Cotton    Tomato  -6.4588    0.0 -8.3687 -4.5489   True\n",
      "   Cotton     Wheat  -3.3713    0.0 -5.2805 -1.4621   True\n",
      "   Potato      Rice   2.5324 0.0011  0.6241  4.4407   True\n",
      "   Potato   Soybean  -0.2465    1.0 -2.1548  1.6618  False\n",
      "   Potato Sugarcane   2.5716 0.0008   0.663  4.4802   True\n",
      "   Potato Sunflower   1.2564 0.5398 -0.6522   3.165  False\n",
      "   Potato    Tomato  -3.4213    0.0 -5.3306 -1.5119   True\n",
      "   Potato     Wheat  -0.3338 0.9999 -2.2425  1.5749  False\n",
      "     Rice   Soybean  -2.7788 0.0002 -4.6875 -0.8701   True\n",
      "     Rice Sugarcane   0.0393    1.0 -1.8697  1.9482  False\n",
      "     Rice Sunflower   -1.276 0.5169 -3.1849   0.633  False\n",
      "     Rice    Tomato  -5.9536    0.0 -7.8634 -4.0439   True\n",
      "     Rice     Wheat  -2.8661 0.0001 -4.7752  -0.957   True\n",
      "  Soybean Sugarcane   2.8181 0.0001  0.9091   4.727   True\n",
      "  Soybean Sunflower   1.5029 0.2732 -0.4061  3.4118  False\n",
      "  Soybean    Tomato  -3.1748    0.0 -5.0846 -1.2651   True\n",
      "  Soybean     Wheat  -0.0873    1.0 -1.9964  1.8218  False\n",
      "Sugarcane Sunflower  -1.3152  0.471 -3.2244   0.594  False\n",
      "Sugarcane    Tomato  -5.9929    0.0 -7.9029 -4.0829   True\n",
      "Sugarcane     Wheat  -2.9054 0.0001 -4.8147  -0.996   True\n",
      "Sunflower    Tomato  -4.6777    0.0 -6.5877 -2.7677   True\n",
      "Sunflower     Wheat  -1.5902 0.2013 -3.4995  0.3192  False\n",
      "   Tomato     Wheat   3.0875    0.0  1.1774  4.9977   True\n",
      "----------------------------------------------------------\n"
     ]
    }
   ],
   "source": [
    "# Post-hoc test\n",
    "# ANOVA는 “차이가 있다”까지만 알려줍니다. “어떤 그룹끼리 다른가?”를 알려면 Tukey HSD로 분석합니다.\n",
    "# ANOVA: “차이가 있다”\n",
    "# Tukey HSD: “누구랑 누구 사이에 차이가 있는지 알려준다”\n",
    "\n",
    "from statsmodels.stats.multicomp import pairwise_tukeyhsd\n",
    "\n",
    "tukey = pairwise_tukeyhsd(endog=df['Crop_Yield'],\n",
    "                          groups=df['Crop_Type'],\n",
    "                          alpha=0.05)\n",
    "print(tukey)\n",
    "\n",
    "# plt.figure(figsize=(10, 6))\n",
    "# tukey.plot_simultaneous(comparison_name=None)\n",
    "# plt.title(\"Tukey HSD Test - Crop Type Mean Comparison (95% CI)\")\n",
    "# plt.xlabel(\"Mean Difference in Crop Yield\")\n",
    "# plt.ylabel(\"Crop Type\")\n",
    "# plt.grid(True, linestyle=\"--\", alpha=0.6)\n",
    "# plt.show()"
   ]
  },
  {
   "cell_type": "code",
   "execution_count": 37,
   "id": "862c6b48",
   "metadata": {},
   "outputs": [],
   "source": [
    "#ANOVA Workflow with Bilingual Comments\n",
    "\n",
    "import numpy as np\n",
    "import pandas as pd\n",
    "import matplotlib.pyplot as plt\n",
    "import seaborn as sns\n",
    "\n",
    "from scipy.stats import f_oneway\n",
    "import statsmodels.api as sm\n",
    "from statsmodels.formula.api import ols\n",
    "from statsmodels.stats.multicomp import pairwise_tukeyhsd"
   ]
  },
  {
   "cell_type": "code",
   "execution_count": 38,
   "id": "61d96d7c",
   "metadata": {},
   "outputs": [
    {
     "name": "stdout",
     "output_type": "stream",
     "text": [
      "Counts by Crop_Type:\n",
      " Crop_Type\n",
      "Potato       3626\n",
      "Rice         3623\n",
      "Soybean      3623\n",
      "Corn         3622\n",
      "Cotton       3622\n",
      "Sugarcane    3621\n",
      "Sunflower    3621\n",
      "Wheat        3620\n",
      "Barley       3618\n",
      "Tomato       3615\n",
      "Name: count, dtype: int64\n",
      "\n",
      "Counts by Soil_Type:\n",
      " Soil_Type\n",
      "Saline    7299\n",
      "Clay      7240\n",
      "Peaty     7234\n",
      "Loamy     7226\n",
      "Sandy     7212\n",
      "Name: count, dtype: int64\n"
     ]
    },
    {
     "data": {
      "image/png": "[encoded data removed]",
      "text/plain": [
       "<Figure size 1000x400 with 1 Axes>"
      ]
     },
     "metadata": {},
     "output_type": "display_data"
    }
   ],
   "source": [
    "# 1) Basic checks & preparation\n",
    "# 기본 점검 및 전처리 / Basic sanity checks & preprocessing\n",
    "# - 범주형(카테고리) 강제 변환: ANOVA에서 범주형 처리가 안정적 / cast to category for stable ANOVA handling\n",
    "df[\"Crop_Type\"] = df[\"Crop_Type\"].astype(\"category\")\n",
    "df[\"Soil_Type\"] = df[\"Soil_Type\"].astype(\"category\")\n",
    "\n",
    "# - 결측치 점검 / check missing values\n",
    "assert df[\"Crop_Yield\"].isna().sum() == 0, \"Crop_Yield has missing values.\"\n",
    "assert df[\"Crop_Type\"].isna().sum() == 0, \"Crop_Type has missing values.\"\n",
    "assert df[\"Soil_Type\"].isna().sum() == 0, \"Soil_Type has missing values.\"\n",
    "\n",
    "# - 각 그룹 샘플 수 빠른 확인 / quick group sizes\n",
    "print(\"Counts by Crop_Type:\\n\", df[\"Crop_Type\"].value_counts())\n",
    "print(\"\\nCounts by Soil_Type:\\n\", df[\"Soil_Type\"].value_counts())\n",
    "\n",
    "# - 극단치(이상치) 시각 점검(선택) / optional: quick outlier glance\n",
    "plt.figure(figsize=(10,4))\n",
    "sns.boxplot(x=\"Crop_Type\", y=\"Crop_Yield\", data=df)\n",
    "plt.title(\"Crop_Yield by Crop_Type (Boxplot)\")\n",
    "plt.xticks(rotation=30)\n",
    "plt.tight_layout()\n",
    "plt.show()"
   ]
  },
  {
   "cell_type": "code",
   "execution_count": 39,
   "id": "511131ba",
   "metadata": {},
   "outputs": [
    {
     "name": "stdout",
     "output_type": "stream",
     "text": [
      "\n",
      "[One-Way ANOVA] Crop_Yield ~ Crop_Type\n",
      "F-statistic: 21.79333727374859 | p-value: 2.7291199204263177e-37\n"
     ]
    }
   ],
   "source": [
    "# 2) One-Way ANOVA: Crop_Yield ~ Crop_Type\n",
    "# 일원분산분석: 작물 종류에 따라 평균 수확량이 다른가?\n",
    "# One-way ANOVA: does mean Crop_Yield differ by Crop_Type?\n",
    "\n",
    "# - 그룹 배열 만들기 / build list of arrays for each group\n",
    "groups = [grp[\"Crop_Yield\"].values for _, grp in df.groupby(\"Crop_Type\") if len(grp) >= 2]\n",
    "\n",
    "# - 주의: 표본이 1개인 그룹은 제외 / exclude groups with only 1 sample\n",
    "f_stat, p_value = f_oneway(*groups)\n",
    "print(\"\\n[One-Way ANOVA] Crop_Yield ~ Crop_Type\")\n",
    "print(\"F-statistic:\", f_stat, \"| p-value:\", p_value)\n",
    "# 해석: p<0.05 이면 작물 유형별 평균 수확량 차이가 유의함\n",
    "# Interpretation: if p<0.05, mean yields differ across Crop_Type"
   ]
  },
  {
   "cell_type": "code",
   "execution_count": 40,
   "id": "87b0270c",
   "metadata": {},
   "outputs": [
    {
     "name": "stdout",
     "output_type": "stream",
     "text": [
      "\n",
      "[Tukey HSD] Pairwise comparisons for Crop_Type\n",
      "   Multiple Comparison of Means - Tukey HSD, FWER=0.05    \n",
      "==========================================================\n",
      "  group1    group2  meandiff p-adj   lower   upper  reject\n",
      "----------------------------------------------------------\n",
      "   Barley      Corn    2.705 0.0003  0.7955  4.6145   True\n",
      "   Barley    Cotton   3.6385    0.0   1.729   5.548   True\n",
      "   Barley    Potato    0.601 0.9926  -1.308  2.5099  False\n",
      "   Barley      Rice   3.1333    0.0  1.2239  5.0427   True\n",
      "   Barley   Soybean   0.3545 0.9999 -1.5549  2.2638  False\n",
      "   Barley Sugarcane   3.1726    0.0  1.2629  5.0822   True\n",
      "   Barley Sunflower   1.8574 0.0646 -0.0523   3.767  False\n",
      "   Barley    Tomato  -2.8203 0.0001 -4.7307 -0.9099   True\n",
      "   Barley     Wheat   0.2672    1.0 -1.6426  2.1769  False\n",
      "     Corn    Cotton   0.9335  0.873 -0.9755  2.8425  False\n",
      "     Corn    Potato   -2.104 0.0175 -4.0125 -0.1956   True\n",
      "     Corn      Rice   0.4283 0.9995 -1.4805  2.3371  False\n",
      "     Corn   Soybean  -2.3505 0.0039 -4.2593 -0.4417   True\n",
      "     Corn Sugarcane   0.4676 0.9989 -1.4415  2.3767  False\n",
      "     Corn Sunflower  -0.8476 0.9262 -2.7567  1.0615  False\n",
      "     Corn    Tomato  -5.5253    0.0 -7.4352 -3.6154   True\n",
      "     Corn     Wheat  -2.4378 0.0022  -4.347 -0.5286   True\n",
      "   Cotton    Potato  -3.0375    0.0  -4.946 -1.1291   True\n",
      "   Cotton      Rice  -0.5052  0.998  -2.414  1.4036  False\n",
      "   Cotton   Soybean   -3.284    0.0 -5.1928 -1.3752   True\n",
      "   Cotton Sugarcane  -0.4659 0.9989  -2.375  1.4432  False\n",
      "   Cotton Sunflower  -1.7811 0.0918 -3.6902   0.128  False\n",
      "   Cotton    Tomato  -6.4588    0.0 -8.3687 -4.5489   True\n",
      "   Cotton     Wheat  -3.3713    0.0 -5.2805 -1.4621   True\n",
      "   Potato      Rice   2.5324 0.0011  0.6241  4.4407   True\n",
      "   Potato   Soybean  -0.2465    1.0 -2.1548  1.6618  False\n",
      "   Potato Sugarcane   2.5716 0.0008   0.663  4.4802   True\n",
      "   Potato Sunflower   1.2564 0.5398 -0.6522   3.165  False\n",
      "   Potato    Tomato  -3.4213    0.0 -5.3306 -1.5119   True\n",
      "   Potato     Wheat  -0.3338 0.9999 -2.2425  1.5749  False\n",
      "     Rice   Soybean  -2.7788 0.0002 -4.6875 -0.8701   True\n",
      "     Rice Sugarcane   0.0393    1.0 -1.8697  1.9482  False\n",
      "     Rice Sunflower   -1.276 0.5169 -3.1849   0.633  False\n",
      "     Rice    Tomato  -5.9536    0.0 -7.8634 -4.0439   True\n",
      "     Rice     Wheat  -2.8661 0.0001 -4.7752  -0.957   True\n",
      "  Soybean Sugarcane   2.8181 0.0001  0.9091   4.727   True\n",
      "  Soybean Sunflower   1.5029 0.2732 -0.4061  3.4118  False\n",
      "  Soybean    Tomato  -3.1748    0.0 -5.0846 -1.2651   True\n",
      "  Soybean     Wheat  -0.0873    1.0 -1.9964  1.8218  False\n",
      "Sugarcane Sunflower  -1.3152  0.471 -3.2244   0.594  False\n",
      "Sugarcane    Tomato  -5.9929    0.0 -7.9029 -4.0829   True\n",
      "Sugarcane     Wheat  -2.9054 0.0001 -4.8147  -0.996   True\n",
      "Sunflower    Tomato  -4.6777    0.0 -6.5877 -2.7677   True\n",
      "Sunflower     Wheat  -1.5902 0.2013 -3.4995  0.3192  False\n",
      "   Tomato     Wheat   3.0875    0.0  1.1774  4.9977   True\n",
      "----------------------------------------------------------\n"
     ]
    }
   ],
   "source": [
    "# 3) Post-hoc test (Tukey HSD) after significant One-Way ANOVA\n",
    "# 사후검정: 어떤 그룹끼리 다른지 탐색\n",
    "# Post-hoc: identify which pairs differ\n",
    "tukey = pairwise_tukeyhsd(endog=df[\"Crop_Yield\"],\n",
    "                          groups=df[\"Crop_Type\"],\n",
    "                          alpha=0.05)\n",
    "print(\"\\n[Tukey HSD] Pairwise comparisons for Crop_Type\")\n",
    "print(tukey)"
   ]
  },
  {
   "cell_type": "code",
   "execution_count": 41,
   "id": "fcdafd0f",
   "metadata": {},
   "outputs": [
    {
     "name": "stdout",
     "output_type": "stream",
     "text": [
      "\n",
      "[Two-Way ANOVA] Crop_Yield ~ Crop_Type + Soil_Type + Interaction\n",
      "                                 sum_sq       df           F        PR(>F)\n",
      "C(Crop_Type)               1.293107e+05      9.0   22.824958  3.164856e-39\n",
      "C(Soil_Type)               1.072639e+06      4.0  426.002061  0.000000e+00\n",
      "C(Crop_Type):C(Soil_Type)  3.153525e+04     36.0    1.391592  5.950251e-02\n",
      "Residual                   2.276262e+07  36161.0         NaN           NaN\n"
     ]
    }
   ],
   "source": [
    "# 4) Two-Way ANOVA with interaction: Crop_Yield ~ Crop_Type + Soil_Type + Crop_Type:Soil_Type\n",
    "# 이원분산분석(상호작용 포함): 작물/토양 및 상호작용 효과\n",
    "# Two-way ANOVA (with interaction): main effects + interaction\n",
    "\n",
    "# - 선형모델 적합 / fit OLS model\n",
    "model = ols('Crop_Yield ~ C(Crop_Type) + C(Soil_Type) + C(Crop_Type):C(Soil_Type)', data=df).fit()\n",
    "\n",
    "# - Type II ANOVA 테이블 / Type II ANOVA table\n",
    "anova_table = sm.stats.anova_lm(model, typ=2)\n",
    "print(\"\\n[Two-Way ANOVA] Crop_Yield ~ Crop_Type + Soil_Type + Interaction\")\n",
    "print(anova_table)\n",
    "# 해석: PR(>F) < 0.05 이면 해당 요인(또는 상호작용)이 유의함\n",
    "# Interpretation: PR(>F) < 0.05 indicates a significant effect"
   ]
  },
  {
   "cell_type": "code",
   "execution_count": 42,
   "id": "494e5a7e",
   "metadata": {},
   "outputs": [
    {
     "data": {
      "image/png": "[encoded data removed]",
      "text/plain": [
       "<Figure size 500x400 with 1 Axes>"
      ]
     },
     "metadata": {},
     "output_type": "display_data"
    },
    {
     "data": {
      "image/png": "[encoded data removed]",
      "text/plain": [
       "<Figure size 640x480 with 1 Axes>"
      ]
     },
     "metadata": {},
     "output_type": "display_data"
    }
   ],
   "source": [
    "# 5) Model diagnostics (optional but recommended)\n",
    "# 잔차 진단: 정규성/등분산성 가정 대략 점검\n",
    "# Residual diagnostics: quick checks for normality/homoscedasticity\n",
    "\n",
    "resid = model.resid\n",
    "fitted = model.fittedvalues\n",
    "\n",
    "# 5-1) 잔차 vs 적합값 / Residuals vs Fitted\n",
    "plt.figure(figsize=(5,4))\n",
    "plt.scatter(fitted, resid, s=10)\n",
    "plt.axhline(0, linestyle=\"--\")\n",
    "plt.xlabel(\"Fitted values\")\n",
    "plt.ylabel(\"Residuals\")\n",
    "plt.title(\"Residuals vs Fitted\")\n",
    "plt.tight_layout()\n",
    "plt.show()\n",
    "\n",
    "# 5-2) QQ-plot (정규성 점검) / normality check\n",
    "sm.qqplot(resid, line='45', fit=True)\n",
    "plt.title(\"QQ-Plot of Residuals\")\n",
    "plt.tight_layout()\n",
    "plt.show()"
   ]
  },
  {
   "cell_type": "code",
   "execution_count": 43,
   "id": "cb5e7565",
   "metadata": {},
   "outputs": [
    {
     "name": "stdout",
     "output_type": "stream",
     "text": [
      "\n",
      "[Summary] Crop_Yield by Crop_Type (mean ± 95% CI)\n",
      "   Crop_Type       mean        std     n        se  ci95_lower  ci95_upper\n",
      "0     Barley  25.717256  24.321252  3618  0.404345   24.924740   26.509771\n",
      "1       Corn  28.422254  26.740583  3622  0.444321   27.551385   29.293123\n",
      "2     Cotton  29.355749  27.379398  3622  0.454935   28.464076   30.247423\n",
      "3     Potato  26.318206  24.287399  3626  0.403336   25.527667   27.108745\n",
      "4       Rice  28.850566  28.354730  3623  0.471076   27.927256   29.773875\n",
      "5    Soybean  26.071745  23.853741  3623  0.396298   25.295000   26.848489\n",
      "6  Sugarcane  28.889817  28.173166  3621  0.468189   27.972166   29.807468\n",
      "7  Sunflower  27.574608  26.030125  3621  0.432576   26.726760   28.422456\n",
      "8     Tomato  22.896930  22.446572  3615  0.373333   22.165198   23.628662\n",
      "9      Wheat  25.984437  24.460670  3620  0.406550   25.187599   26.781275\n"
     ]
    },
    {
     "data": {
      "image/png": "[encoded data removed]",
      "text/plain": [
       "<Figure size 1000x400 with 1 Axes>"
      ]
     },
     "metadata": {},
     "output_type": "display_data"
    }
   ],
   "source": [
    "# 6) Helpful summaries (group means & CI)\n",
    "# 그룹 평균 및 신뢰구간 요약 / Summary of group means & CIs\n",
    "group_summary = (\n",
    "    df.groupby([\"Crop_Type\"])[\"Crop_Yield\"]\n",
    "      .agg(mean=\"mean\", std=\"std\", n=\"count\")\n",
    "      .reset_index()\n",
    ")\n",
    "group_summary[\"se\"] = group_summary[\"std\"] / np.sqrt(group_summary[\"n\"])\n",
    "group_summary[\"ci95_lower\"] = group_summary[\"mean\"] - 1.96 * group_summary[\"se\"]\n",
    "group_summary[\"ci95_upper\"] = group_summary[\"mean\"] + 1.96 * group_summary[\"se\"]\n",
    "print(\"\\n[Summary] Crop_Yield by Crop_Type (mean ± 95% CI)\")\n",
    "print(group_summary)\n",
    "\n",
    "# 7) Visualization: mean ± 95% CI by Crop_Type (optional)\n",
    "# 평균+신뢰구간 플롯 / mean with CI plot\n",
    "plt.figure(figsize=(10,4))\n",
    "_ = sns.pointplot(\n",
    "    data=group_summary,\n",
    "    x=\"Crop_Type\", y=\"mean\",\n",
    "    errorbar=None\n",
    ")\n",
    "# 수동 에러바 추가 / manual error bars\n",
    "for i, row in group_summary.iterrows():\n",
    "    plt.plot([i, i], [row[\"ci95_lower\"], row[\"ci95_upper\"]])\n",
    "plt.title(\"Mean Crop_Yield ± 95% CI by Crop_Type\")\n",
    "plt.ylabel(\"Mean Crop_Yield\")\n",
    "plt.xlabel(\"Crop_Type\")\n",
    "plt.xticks(rotation=30)\n",
    "plt.tight_layout()\n",
    "plt.show()\n"
   ]
  },
  {
   "cell_type": "code",
   "execution_count": 44,
   "id": "890541fa",
   "metadata": {},
   "outputs": [],
   "source": [
    "# ANOVA with bilingual comments\n",
    "\n",
    "import pandas as pd\n",
    "import matplotlib.pyplot as plt\n",
    "import seaborn as sns\n",
    "from scipy.stats import f_oneway\n",
    "import statsmodels.api as sm\n",
    "from statsmodels.formula.api import ols\n",
    "from statsmodels.stats.multicomp import pairwise_tukeyhsd"
   ]
  },
  {
   "cell_type": "code",
   "execution_count": 45,
   "id": "9667eec3",
   "metadata": {},
   "outputs": [
    {
     "name": "stdout",
     "output_type": "stream",
     "text": [
      "<class 'pandas.core.frame.DataFrame'>\n",
      "RangeIndex: 36211 entries, 0 to 36210\n",
      "Data columns (total 19 columns):\n",
      " #   Column             Non-Null Count  Dtype   \n",
      "---  ------             --------------  -----   \n",
      " 0   Date               36211 non-null  object  \n",
      " 1   Crop_Type          36211 non-null  category\n",
      " 2   Soil_Type          36211 non-null  category\n",
      " 3   Soil_pH            36211 non-null  float64 \n",
      " 4   Temperature        36211 non-null  int64   \n",
      " 5   Humidity           36211 non-null  int64   \n",
      " 6   Wind_Speed         36211 non-null  int64   \n",
      " 7   N                  36211 non-null  float64 \n",
      " 8   P                  36211 non-null  float64 \n",
      " 9   K                  36211 non-null  float64 \n",
      " 10  Crop_Yield         36211 non-null  float64 \n",
      " 11  Soil_Quality       36211 non-null  int64   \n",
      " 12  Year               36211 non-null  int64   \n",
      " 13  Month              36211 non-null  int64   \n",
      " 14  Day                36211 non-null  int64   \n",
      " 15  Temperature_orig   36211 non-null  float64 \n",
      " 16  Humidity_orig      36211 non-null  float64 \n",
      " 17  Wind_Speed_orig    36211 non-null  float64 \n",
      " 18  Soil_Quality_orig  36211 non-null  float64 \n",
      "dtypes: category(2), float64(9), int64(7), object(1)\n",
      "memory usage: 4.8+ MB\n",
      "None\n",
      "         Date Crop_Type Soil_Type  Soil_pH  Temperature  Humidity  Wind_Speed  \\\n",
      "0  2014-01-01     Wheat     Peaty     5.50            9        80          11   \n",
      "1  2014-01-01      Corn     Loamy     6.50           20        80           9   \n",
      "2  2014-01-01      Rice     Peaty     5.50           12        80           7   \n",
      "3  2014-01-01    Barley     Sandy     6.75           20        80           3   \n",
      "4  2014-01-01   Soybean     Peaty     5.50           16        80           8   \n",
      "\n",
      "      N     P     K  Crop_Yield  Soil_Quality  Year  Month  Day  \\\n",
      "0  60.5  45.0  31.5    0.000000            23  2014      1    1   \n",
      "1  84.0  66.0  50.0  104.871310            67  2014      1    1   \n",
      "2  71.5  54.0  38.5    0.000000            27  2014      1    1   \n",
      "3  50.0  40.0  30.0   58.939796            35  2014      1    1   \n",
      "4  49.5  45.0  38.5   32.970413            22  2014      1    1   \n",
      "\n",
      "   Temperature_orig  Humidity_orig  Wind_Speed_orig  Soil_Quality_orig  \n",
      "0          9.440599      80.000000        10.956707          22.833333  \n",
      "1         20.052576      79.947424         8.591577          66.666667  \n",
      "2         12.143099      80.000000         7.227751          27.333333  \n",
      "3         19.751848      80.000000         2.682683          35.000000  \n",
      "4         16.110395      80.000000         7.696070          22.166667  \n"
     ]
    },
    {
     "data": {
      "image/png": "[encoded data removed]",
      "text/plain": [
       "<Figure size 1000x400 with 1 Axes>"
      ]
     },
     "metadata": {},
     "output_type": "display_data"
    }
   ],
   "source": [
    "# 1) 데이터 확인 / check data\n",
    "print(df.info())\n",
    "print(df.head())\n",
    "\n",
    "# 2) 시각적으로 그룹별 분포 확인 / visualize distribution by group\n",
    "plt.figure(figsize=(10,4))\n",
    "sns.boxplot(x='Crop_Type', y='Crop_Yield', data=df)\n",
    "plt.title(\"Crop_Yield by Crop_Type\")\n",
    "plt.xticks(rotation=30)\n",
    "plt.show()"
   ]
  },
  {
   "cell_type": "code",
   "execution_count": 46,
   "id": "69a10e83",
   "metadata": {},
   "outputs": [
    {
     "name": "stdout",
     "output_type": "stream",
     "text": [
      "\n",
      "[One-way ANOVA] Crop_Yield ~ Crop_Type\n",
      "F-statistic: 21.79333727374859  | p-value: 2.7291199204263177e-37\n"
     ]
    }
   ],
   "source": [
    "# 3) One-way ANOVA: Crop_Yield ~ Crop_Type\n",
    "# 일원분산분석: 작물 유형별 평균 수확량이 다른가?\n",
    "groups = [g[\"Crop_Yield\"].values for _, g in df.groupby(\"Crop_Type\")]\n",
    "f_stat, p_value = f_oneway(*groups)\n",
    "print(\"\\n[One-way ANOVA] Crop_Yield ~ Crop_Type\")\n",
    "print(\"F-statistic:\", f_stat, \" | p-value:\", p_value)\n",
    "# 해석 / interpretation: p<0.05 → 그룹 간 평균 차이가 유의함"
   ]
  },
  {
   "cell_type": "code",
   "execution_count": 47,
   "id": "0c95e25e",
   "metadata": {},
   "outputs": [
    {
     "name": "stdout",
     "output_type": "stream",
     "text": [
      "\n",
      "[Tukey HSD result]\n",
      "   Multiple Comparison of Means - Tukey HSD, FWER=0.05    \n",
      "==========================================================\n",
      "  group1    group2  meandiff p-adj   lower   upper  reject\n",
      "----------------------------------------------------------\n",
      "   Barley      Corn    2.705 0.0003  0.7955  4.6145   True\n",
      "   Barley    Cotton   3.6385    0.0   1.729   5.548   True\n",
      "   Barley    Potato    0.601 0.9926  -1.308  2.5099  False\n",
      "   Barley      Rice   3.1333    0.0  1.2239  5.0427   True\n",
      "   Barley   Soybean   0.3545 0.9999 -1.5549  2.2638  False\n",
      "   Barley Sugarcane   3.1726    0.0  1.2629  5.0822   True\n",
      "   Barley Sunflower   1.8574 0.0646 -0.0523   3.767  False\n",
      "   Barley    Tomato  -2.8203 0.0001 -4.7307 -0.9099   True\n",
      "   Barley     Wheat   0.2672    1.0 -1.6426  2.1769  False\n",
      "     Corn    Cotton   0.9335  0.873 -0.9755  2.8425  False\n",
      "     Corn    Potato   -2.104 0.0175 -4.0125 -0.1956   True\n",
      "     Corn      Rice   0.4283 0.9995 -1.4805  2.3371  False\n",
      "     Corn   Soybean  -2.3505 0.0039 -4.2593 -0.4417   True\n",
      "     Corn Sugarcane   0.4676 0.9989 -1.4415  2.3767  False\n",
      "     Corn Sunflower  -0.8476 0.9262 -2.7567  1.0615  False\n",
      "     Corn    Tomato  -5.5253    0.0 -7.4352 -3.6154   True\n",
      "     Corn     Wheat  -2.4378 0.0022  -4.347 -0.5286   True\n",
      "   Cotton    Potato  -3.0375    0.0  -4.946 -1.1291   True\n",
      "   Cotton      Rice  -0.5052  0.998  -2.414  1.4036  False\n",
      "   Cotton   Soybean   -3.284    0.0 -5.1928 -1.3752   True\n",
      "   Cotton Sugarcane  -0.4659 0.9989  -2.375  1.4432  False\n",
      "   Cotton Sunflower  -1.7811 0.0918 -3.6902   0.128  False\n",
      "   Cotton    Tomato  -6.4588    0.0 -8.3687 -4.5489   True\n",
      "   Cotton     Wheat  -3.3713    0.0 -5.2805 -1.4621   True\n",
      "   Potato      Rice   2.5324 0.0011  0.6241  4.4407   True\n",
      "   Potato   Soybean  -0.2465    1.0 -2.1548  1.6618  False\n",
      "   Potato Sugarcane   2.5716 0.0008   0.663  4.4802   True\n",
      "   Potato Sunflower   1.2564 0.5398 -0.6522   3.165  False\n",
      "   Potato    Tomato  -3.4213    0.0 -5.3306 -1.5119   True\n",
      "   Potato     Wheat  -0.3338 0.9999 -2.2425  1.5749  False\n",
      "     Rice   Soybean  -2.7788 0.0002 -4.6875 -0.8701   True\n",
      "     Rice Sugarcane   0.0393    1.0 -1.8697  1.9482  False\n",
      "     Rice Sunflower   -1.276 0.5169 -3.1849   0.633  False\n",
      "     Rice    Tomato  -5.9536    0.0 -7.8634 -4.0439   True\n",
      "     Rice     Wheat  -2.8661 0.0001 -4.7752  -0.957   True\n",
      "  Soybean Sugarcane   2.8181 0.0001  0.9091   4.727   True\n",
      "  Soybean Sunflower   1.5029 0.2732 -0.4061  3.4118  False\n",
      "  Soybean    Tomato  -3.1748    0.0 -5.0846 -1.2651   True\n",
      "  Soybean     Wheat  -0.0873    1.0 -1.9964  1.8218  False\n",
      "Sugarcane Sunflower  -1.3152  0.471 -3.2244   0.594  False\n",
      "Sugarcane    Tomato  -5.9929    0.0 -7.9029 -4.0829   True\n",
      "Sugarcane     Wheat  -2.9054 0.0001 -4.8147  -0.996   True\n",
      "Sunflower    Tomato  -4.6777    0.0 -6.5877 -2.7677   True\n",
      "Sunflower     Wheat  -1.5902 0.2013 -3.4995  0.3192  False\n",
      "   Tomato     Wheat   3.0875    0.0  1.1774  4.9977   True\n",
      "----------------------------------------------------------\n"
     ]
    }
   ],
   "source": [
    "# 4) 사후검정(Post-hoc test) / Tukey HSD\n",
    "tukey = pairwise_tukeyhsd(endog=df[\"Crop_Yield\"],\n",
    "                          groups=df[\"Crop_Type\"],\n",
    "                          alpha=0.05)\n",
    "print(\"\\n[Tukey HSD result]\")\n",
    "print(tukey)"
   ]
  },
  {
   "cell_type": "code",
   "execution_count": 48,
   "id": "50afad29",
   "metadata": {},
   "outputs": [
    {
     "name": "stdout",
     "output_type": "stream",
     "text": [
      "\n",
      "[Two-way ANOVA] Crop_Yield ~ Crop_Type + Soil_Type + Interaction\n",
      "                                 sum_sq       df           F        PR(>F)\n",
      "C(Crop_Type)               1.293107e+05      9.0   22.824958  3.164856e-39\n",
      "C(Soil_Type)               1.072639e+06      4.0  426.002061  0.000000e+00\n",
      "C(Crop_Type):C(Soil_Type)  3.153525e+04     36.0    1.391592  5.950251e-02\n",
      "Residual                   2.276262e+07  36161.0         NaN           NaN\n"
     ]
    }
   ],
   "source": [
    "\n",
    "# 5) Two-way ANOVA: Crop_Yield ~ Crop_Type + Soil_Type + Interaction\n",
    "# 이원분산분석(상호작용 포함)\n",
    "model = ols('Crop_Yield ~ C(Crop_Type) + C(Soil_Type) + C(Crop_Type):C(Soil_Type)', data=df).fit()\n",
    "anova_table = sm.stats.anova_lm(model, typ=2)\n",
    "print(\"\\n[Two-way ANOVA] Crop_Yield ~ Crop_Type + Soil_Type + Interaction\")\n",
    "print(anova_table)\n",
    "# 해석 / interpretation:\n",
    "# p<0.05 → 요인이 유의함\n",
    "# C(Crop_Type):C(Soil_Type) 유의 → 상호작용 효과 존재\n"
   ]
  },
  {
   "cell_type": "markdown",
   "id": "a9aa0dfb",
   "metadata": {},
   "source": [
    "### Chi-square Test\n",
    "이번에는 **카이제곱 검정(Chi-square Test)**에 대해 설명드릴게요.\n",
    "이건 ANOVA와 달리 범주형 데이터(categorical data) 간의 관계를 검정할 때 사용합니다\n",
    "Chi-square Test (χ² Test)\n",
    "= “두 범주형 변수 사이에 **통계적으로 유의한 관계(association)**가 있는가?”를 확인하는 검정입니다."
   ]
  },
  {
   "cell_type": "code",
   "execution_count": 49,
   "id": "b32de08e",
   "metadata": {},
   "outputs": [
    {
     "name": "stdout",
     "output_type": "stream",
     "text": [
      "\n",
      "[Contingency Table]\n",
      " Soil_Type  Clay  Loamy  Peaty  Saline  Sandy\n",
      "Crop_Type                                   \n",
      "Barley      695    780    716     685    742\n",
      "Corn        708    731    717     741    725\n",
      "Cotton      722    750    708     741    701\n",
      "Potato      724    683    752     749    718\n",
      "Rice        764    684    737     726    712\n",
      "Soybean     704    716    726     753    724\n",
      "Sugarcane   736    708    738     757    682\n",
      "Sunflower   718    753    719     706    725\n",
      "Tomato      743    713    699     727    733\n",
      "Wheat       726    708    722     714    750\n",
      "\n",
      "Chi-square Statistic: 31.323971559207433\n",
      "Degrees of Freedom: 36\n",
      "p-value: 0.6905370689282166\n",
      "\n",
      "Expected Frequencies:\n",
      " Soil_Type        Clay       Loamy       Peaty      Saline       Sandy\n",
      "Crop_Type                                                            \n",
      "Barley     723.380188  721.981387  722.780702  729.275137  720.582585\n",
      "Corn       724.179945  722.779597  723.579796  730.081412  721.379249\n",
      "Cotton     724.179945  722.779597  723.579796  730.081412  721.379249\n",
      "Potato     724.979702  723.577808  724.378890  730.887686  722.175913\n",
      "Rice       724.379885  722.979150  723.779570  730.282980  721.578415\n",
      "Soybean    724.379885  722.979150  723.779570  730.282980  721.578415\n",
      "Sugarcane  723.980006  722.580045  723.380023  729.879843  721.180083\n",
      "Sunflower  723.980006  722.580045  723.380023  729.879843  721.180083\n",
      "Tomato     722.780371  721.382729  722.181381  728.670432  719.985087\n",
      "Wheat      723.780067  722.380492  723.180249  729.678275  720.980917\n"
     ]
    }
   ],
   "source": [
    "import pandas as pd\n",
    "from scipy.stats import chi2_contingency\n",
    "\n",
    "# 예시: Crop_Type 과 Soil_Type 의 관계 확인\n",
    "# Make contingency table (교차표)\n",
    "contingency = pd.crosstab(df['Crop_Type'], df['Soil_Type'])\n",
    "print(\"\\n[Contingency Table]\\n\", contingency)\n",
    "\n",
    "# Chi-square test\n",
    "chi2, p, dof, expected = chi2_contingency(contingency)\n",
    "\n",
    "print(\"\\nChi-square Statistic:\", chi2)\n",
    "print(\"Degrees of Freedom:\", dof)\n",
    "print(\"p-value:\", p)\n",
    "print(\"\\nExpected Frequencies:\\n\", pd.DataFrame(expected,\n",
    "      index=contingency.index, columns=contingency.columns))\n"
   ]
  },
  {
   "cell_type": "code",
   "execution_count": 13,
   "id": "0fd22439",
   "metadata": {},
   "outputs": [
    {
     "data": {
      "image/png": "[encoded data removed]",
      "text/plain": [
       "<Figure size 800x500 with 2 Axes>"
      ]
     },
     "metadata": {},
     "output_type": "display_data"
    }
   ],
   "source": [
    "import seaborn as sns\n",
    "import matplotlib.pyplot as plt\n",
    "\n",
    "plt.figure(figsize=(8,5))\n",
    "sns.heatmap(contingency, annot=True, cmap=\"YlGnBu\")\n",
    "plt.title(\"Crop_Type vs Soil_Type (Observed Counts)\")\n",
    "plt.show()"
   ]
  },
  {
   "cell_type": "code",
   "execution_count": 50,
   "id": "4023bf41",
   "metadata": {},
   "outputs": [
    {
     "name": "stdout",
     "output_type": "stream",
     "text": [
      "Pearson correlation: -0.28012318582694634\n",
      "p-value: 0.0\n",
      "✅ 온도와 수확량 사이에 유의한 상관관계가 있습니다.\n"
     ]
    }
   ],
   "source": [
    "# p < 0.05 → 작물 종류에 따라 평균 온도가 다름 (예: Rice는 따뜻한 환경에서 더 많이 재배됨)\n",
    "# p ≥ 0.05 → 작물별로 온도 차이가 통계적으로 없음\n",
    "\n",
    "from scipy.stats import pearsonr, spearmanr\n",
    "\n",
    "# 피어슨 상관관계 (선형 관계) / Pearson correlation (linear relationship)\n",
    "r, p = pearsonr(df['Temperature'], df['Crop_Yield'])\n",
    "print(\"Pearson correlation:\", r)\n",
    "print(\"p-value:\", p)\n",
    "\n",
    "# 해석\n",
    "if p < 0.05:\n",
    "    print(\"✅ 온도와 수확량 사이에 유의한 상관관계가 있습니다.\")\n",
    "else:\n",
    "    print(\"❌ 유의한 상관관계가 없습니다.\")\n"
   ]
  },
  {
   "cell_type": "code",
   "execution_count": 51,
   "id": "abf4f8c9",
   "metadata": {},
   "outputs": [
    {
     "name": "stdout",
     "output_type": "stream",
     "text": [
      "F-statistic: 0.23088099192521883\n",
      "p-value: 0.9901719440400047\n",
      "❌ 작물 종류별 평균 온도 차이는 유의하지 않습니다.\n"
     ]
    }
   ],
   "source": [
    "from scipy.stats import f_oneway\n",
    "\n",
    "groups = [grp['Temperature'].values for _, grp in df.groupby('Crop_Type')]\n",
    "f_stat, p_value = f_oneway(*groups)\n",
    "print(\"F-statistic:\", f_stat)\n",
    "print(\"p-value:\", p_value)\n",
    "\n",
    "if p_value < 0.05:\n",
    "    print(\"✅ 작물 종류별 평균 온도가 통계적으로 다릅니다.\")\n",
    "else:\n",
    "    print(\"❌ 작물 종류별 평균 온도 차이는 유의하지 않습니다.\")\n"
   ]
  },
  {
   "cell_type": "code",
   "execution_count": 52,
   "id": "5a627fd9",
   "metadata": {},
   "outputs": [
    {
     "name": "stdout",
     "output_type": "stream",
     "text": [
      "F-statistic: 1.4152472808559846\n",
      "p-value: 0.22596053798303187\n"
     ]
    }
   ],
   "source": [
    "# Temperature ↔ Soil_Type (수치형 vs 범주형)\n",
    "groups = [grp['Temperature'].values for _, grp in df.groupby('Soil_Type')]\n",
    "f_stat, p_value = f_oneway(*groups)\n",
    "print(\"F-statistic:\", f_stat)\n",
    "print(\"p-value:\", p_value)\n"
   ]
  },
  {
   "cell_type": "code",
   "execution_count": 53,
   "id": "3f10c19d",
   "metadata": {},
   "outputs": [
    {
     "name": "stdout",
     "output_type": "stream",
     "text": [
      "Chi-square: 19.443302078438837\n",
      "p-value: 0.8532876056329342\n",
      "❌ 온도 수준과 작물 유형 간에 유의한 관계가 없습니다.\n"
     ]
    }
   ],
   "source": [
    "# Temperature 구간화 + 범주형 변수 (Chi-square) \n",
    "# 만약 온도를 Low / Medium / High 구간으로 나누고 \n",
    "# 각 범주형 변수(Crop_Type 등)와 관계를 보고 싶다면\n",
    "\n",
    "# 1. 온도 구간화 / binning temperature\n",
    "df['Temp_Level'] = pd.cut(df['Temperature'],\n",
    "                          bins=[-float('inf'), 10, 20, 30, float('inf')],\n",
    "                          labels=['Low', 'Medium', 'High', 'Very High'])\n",
    "\n",
    "# 2. 교차표 생성 / contingency table\n",
    "contingency = pd.crosstab(df['Temp_Level'], df['Crop_Type'])\n",
    "\n",
    "# 3. 카이제곱 검정 / chi-square test\n",
    "from scipy.stats import chi2_contingency\n",
    "chi2, p, dof, expected = chi2_contingency(contingency)\n",
    "\n",
    "print(\"Chi-square:\", chi2)\n",
    "print(\"p-value:\", p)\n",
    "\n",
    "if p < 0.05:\n",
    "    print(\"✅ 온도 수준과 작물 유형 간에 유의한 관계가 있습니다.\")\n",
    "else:\n",
    "    print(\"❌ 온도 수준과 작물 유형 간에 유의한 관계가 없습니다.\")\n"
   ]
  },
  {
   "cell_type": "markdown",
   "id": "4a2da290",
   "metadata": {},
   "source": [
    "### Wrapper Methods\n",
    "모델의 **성능(accuracy, RMSE, F1-score 등)**을 기준으로\n",
    "가장 좋은 Feature(특성) 조합을 찾아내는 방법이에요.\n",
    "즉, 단순히 통계적 관계(상관계수 등)를 보는 Filter Method와 달리,\n",
    "Wrapper는 실제 모델을 반복적으로 학습시켜서 성능을 평가합니다.\n",
    "\n",
    "기본 아이디어\n",
    "\n",
    "1️⃣ 후보 Feature 집합에서 일부 Feature를 선택\n",
    "2️⃣ 모델 학습 → 성능 평가\n",
    "3️⃣ Feature를 추가하거나 제거\n",
    "4️⃣ 가장 성능이 좋은 조합을 선택\n",
    "\n",
    "“모델을 감싸서(wrap) Feature 선택을 수행한다” → Wrapper Method\n",
    "\n",
    "Forward Selection (순방향 선택) 아무 Feature도 없는 상태에서 시작 → 하나씩 추가하면서 성능이 좋아지는 Feature만 남김\n",
    "Backward Elimination (역방향 제거) 모든 Feature로 시작 → 하나씩 제거하면서 성능이 유지되는 Feature만 남김\n",
    "Exhaustive Search (완전 탐색) 가능한 모든 Feature 조합을 평가 (계산량 많음)\n"
   ]
  },
  {
   "cell_type": "code",
   "execution_count": 54,
   "id": "28d9e0af",
   "metadata": {},
   "outputs": [],
   "source": [
    "# =========================================================\n",
    "# Feature Selection for Crop_Yield (Wrapper + RFE)\n",
    "# 래퍼 방식 + RFE로 Crop_Yield 예측에 유효한 특성 선택\n",
    "# (한글 + 영어 주석 / Korean + English comments)\n",
    "# =========================================================\n",
    "\n",
    "import numpy as np\n",
    "import pandas as pd\n",
    "from sklearn.model_selection import train_test_split, cross_val_score\n",
    "from sklearn.preprocessing import StandardScaler\n",
    "from sklearn.pipeline import Pipeline\n",
    "from sklearn.linear_model import LinearRegression\n",
    "from sklearn.metrics import r2_score, mean_squared_error\n",
    "from sklearn.ensemble import RandomForestRegressor\n",
    "from mlxtend.feature_selection import SequentialFeatureSelector as SFS\n",
    "from sklearn.feature_selection import RFE"
   ]
  },
  {
   "cell_type": "code",
   "execution_count": 55,
   "id": "09076d60",
   "metadata": {},
   "outputs": [
    {
     "name": "stdout",
     "output_type": "stream",
     "text": [
      "Candidate features: ['Temperature_orig', 'Humidity_orig', 'Wind_Speed_orig', 'Soil_pH', 'N', 'P', 'K', 'Soil_Quality', 'Year', 'Month', 'Day']\n"
     ]
    }
   ],
   "source": [
    "# ---------------------------------------------------------\n",
    "# 0) 후보 특성 선택 / Define candidate features\n",
    "# ---------------------------------------------------------\n",
    "def pick(cols, prefer, fallback):\n",
    "    \"\"\"Return preferred column if exists, otherwise fallback\"\"\"\n",
    "    return [c for c in prefer if c in cols] or [c for c in fallback if c in cols]\n",
    "\n",
    "cols = set(df.columns)\n",
    "\n",
    "# Prefer *_orig if exists\n",
    "temp_feats = pick(cols, ['Temperature_orig'], ['Temperature'])\n",
    "humi_feats = pick(cols, ['Humidity_orig'], ['Humidity'])\n",
    "wind_feats = pick(cols, ['Wind_Speed_orig'], ['Wind_Speed'])\n",
    "\n",
    "fixed_feats = [c for c in ['Soil_pH', 'N', 'P', 'K', 'Soil_Quality', 'Year', 'Month', 'Day'] if c in cols]\n",
    "\n",
    "candidate_features = temp_feats + humi_feats + wind_feats + fixed_feats\n",
    "\n",
    "if 'Crop_Yield' not in cols:\n",
    "    raise ValueError(\"`Crop_Yield` column not found in df.\")\n",
    "\n",
    "print(\"Candidate features:\", candidate_features)\n",
    "\n",
    "X = df[candidate_features].copy()\n",
    "y = df['Crop_Yield'].values"
   ]
  },
  {
   "cell_type": "code",
   "execution_count": 56,
   "id": "0d1d6909",
   "metadata": {},
   "outputs": [
    {
     "name": "stdout",
     "output_type": "stream",
     "text": [
      "\n",
      "[Wrapper - SFS]\n",
      "Selected features: ['Temperature_orig', 'Humidity_orig', 'Wind_Speed_orig', 'N', 'P', 'Soil_Quality', 'Month']\n",
      "CV R² (best subset): 0.6517\n"
     ]
    }
   ],
   "source": [
    "# ---------------------------------------------------------\n",
    "# 1) 데이터 분할 / Train-test split\n",
    "# ---------------------------------------------------------\n",
    "X_train, X_test, y_train, y_test = train_test_split(\n",
    "    X, y, test_size=0.25, random_state=42\n",
    ")\n",
    "\n",
    "# ---------------------------------------------------------\n",
    "# 2) Wrapper Method - Forward Sequential Feature Selection (SFS)\n",
    "# ---------------------------------------------------------\n",
    "lin_pipe = Pipeline([\n",
    "    ('scaler', StandardScaler()),\n",
    "    ('linreg', LinearRegression())\n",
    "])\n",
    "\n",
    "# k_features: search best subset in range(1, k_max)\n",
    "k_max = min(8, X_train.shape[1])\n",
    "sfs = SFS(\n",
    "    lin_pipe,\n",
    "    k_features=(1, k_max),       # 1~k_max features\n",
    "    forward=True,                # forward selection\n",
    "    floating=False,\n",
    "    scoring='r2',                # use R² for regression\n",
    "    cv=5,\n",
    "    n_jobs=-1\n",
    ")\n",
    "\n",
    "sfs = sfs.fit(X_train, y_train)\n",
    "\n",
    "selected_idx = list(sfs.k_feature_idx_)\n",
    "selected_features = [candidate_features[i] for i in selected_idx]\n",
    "cv_score = sfs.k_score_\n",
    "\n",
    "print(\"\\n[Wrapper - SFS]\")\n",
    "print(\"Selected features:\", selected_features)\n",
    "print(\"CV R² (best subset):\", round(cv_score, 4))\n"
   ]
  },
  {
   "cell_type": "code",
   "execution_count": 57,
   "id": "661d647b",
   "metadata": {},
   "outputs": [
    {
     "name": "stdout",
     "output_type": "stream",
     "text": [
      "Test R²: 0.6552\n",
      "Test RMSE: 15.1465\n",
      "\n",
      "[RFE - RandomForest]\n",
      "Selected features (RFE): ['Temperature_orig', 'Humidity_orig', 'Wind_Speed_orig', 'N', 'P', 'K', 'Soil_Quality']\n",
      "Test R² (RFE): 0.9749\n",
      "Test RMSE (RFE): 4.0905\n"
     ]
    }
   ],
   "source": [
    "# ---------------------------------------------------------\n",
    "# 3) 최종 모델 성능 평가 / Evaluate final model\n",
    "# ---------------------------------------------------------\n",
    "lin_pipe.fit(X_train[selected_features], y_train)\n",
    "y_pred = lin_pipe.predict(X_test[selected_features])\n",
    "\n",
    "# 버전 호환 RMSE 계산 / Version-safe RMSE\n",
    "try:\n",
    "    rmse = mean_squared_error(y_test, y_pred, squared=False)\n",
    "except TypeError:\n",
    "    rmse = np.sqrt(mean_squared_error(y_test, y_pred))\n",
    "\n",
    "test_r2 = r2_score(y_test, y_pred)\n",
    "\n",
    "print(\"Test R²:\", round(test_r2, 4))\n",
    "print(\"Test RMSE:\", round(rmse, 4))\n",
    "\n",
    "# ---------------------------------------------------------\n",
    "# 4) Recursive Feature Elimination (RFE)\n",
    "# ---------------------------------------------------------\n",
    "rf = RandomForestRegressor(\n",
    "    n_estimators=400,\n",
    "    random_state=42,\n",
    "    n_jobs=-1\n",
    ")\n",
    "\n",
    "# Match number of features to SFS result\n",
    "n_keep = min(len(selected_features), X_train.shape[1])\n",
    "rfe = RFE(estimator=rf, n_features_to_select=n_keep, step=1)\n",
    "rfe.fit(X_train, y_train)\n",
    "\n",
    "rfe_support = rfe.get_support()\n",
    "rfe_features = X_train.columns[rfe_support].tolist()\n",
    "\n",
    "print(\"\\n[RFE - RandomForest]\")\n",
    "print(\"Selected features (RFE):\", rfe_features)\n",
    "\n",
    "rf.fit(X_train[rfe_features], y_train)\n",
    "y_pred_rfe = rf.predict(X_test[rfe_features])\n",
    "\n",
    "try:\n",
    "    rmse_rfe = mean_squared_error(y_test, y_pred_rfe, squared=False)\n",
    "except TypeError:\n",
    "    rmse_rfe = np.sqrt(mean_squared_error(y_test, y_pred_rfe))\n",
    "\n",
    "rfe_r2 = r2_score(y_test, y_pred_rfe)\n",
    "\n",
    "print(\"Test R² (RFE):\", round(rfe_r2, 4))\n",
    "print(\"Test RMSE (RFE):\", round(rmse_rfe, 4))\n"
   ]
  },
  {
   "cell_type": "code",
   "execution_count": null,
   "id": "93cf2a8f",
   "metadata": {},
   "outputs": [],
   "source": []
  },
  {
   "cell_type": "code",
   "execution_count": 58,
   "id": "1ce6aef9",
   "metadata": {},
   "outputs": [
    {
     "name": "stdout",
     "output_type": "stream",
     "text": [
      "\n",
      "[Cross-Validation Results]\n",
      "SFS subset (LinearRegression): mean R² = 0.6517 ± 0.0032\n",
      "RFE subset (RandomForest): mean R² = 0.9753 ± 0.0014\n"
     ]
    },
    {
     "data": {
      "text/plain": [
       "\"\\n📘 Interpretation:\\n- SFS와 RFE에서 공통으로 선택된 feature는 높은 신뢰도를 가짐.\\n- Test RMSE ↓, R² ↑ 조합이 가장 성능이 좋음.\\n- 예: Temperature, N, P, K, Soil_Quality 등이 반복 선택되면 중요 feature로 볼 수 있음.\\n\\n📘 Tips:\\n- scoring='neg_root_mean_squared_error' 로 변경 시 RMSE 중심 평가 가능.\\n- k_max를 조정하면 더 넓은 범위의 feature 조합 탐색 가능.\\n\""
      ]
     },
     "execution_count": 58,
     "metadata": {},
     "output_type": "execute_result"
    }
   ],
   "source": [
    "# ---------------------------------------------------------\n",
    "# 5) 교차검증 비교 / Cross-validation comparison\n",
    "# ---------------------------------------------------------\n",
    "cv_scores_sfs = cross_val_score(\n",
    "    lin_pipe, X_train[selected_features], y_train,\n",
    "    scoring='r2', cv=5, n_jobs=-1\n",
    ")\n",
    "cv_scores_rfe = cross_val_score(\n",
    "    rf, X_train[rfe_features], y_train,\n",
    "    scoring='r2', cv=5, n_jobs=-1\n",
    ")\n",
    "\n",
    "print(\"\\n[Cross-Validation Results]\")\n",
    "print(\"SFS subset (LinearRegression): mean R² =\", round(cv_scores_sfs.mean(), 4),\n",
    "      \"±\", round(cv_scores_sfs.std(), 4))\n",
    "print(\"RFE subset (RandomForest): mean R² =\", round(cv_scores_rfe.mean(), 4),\n",
    "      \"±\", round(cv_scores_rfe.std(), 4))\n",
    "\n",
    "# ---------------------------------------------------------\n",
    "# 6) 해석 가이드 / Interpretation Guide\n",
    "# ---------------------------------------------------------\n",
    "\"\"\"\n",
    "📘 Interpretation:\n",
    "- SFS와 RFE에서 공통으로 선택된 feature는 높은 신뢰도를 가짐.\n",
    "- Test RMSE ↓, R² ↑ 조합이 가장 성능이 좋음.\n",
    "- 예: Temperature, N, P, K, Soil_Quality 등이 반복 선택되면 중요 feature로 볼 수 있음.\n",
    "\n",
    "📘 Tips:\n",
    "- scoring='neg_root_mean_squared_error' 로 변경 시 RMSE 중심 평가 가능.\n",
    "- k_max를 조정하면 더 넓은 범위의 feature 조합 탐색 가능.\n",
    "\"\"\""
   ]
  },
  {
   "cell_type": "markdown",
   "id": "d21402df",
   "metadata": {},
   "source": [
    "### Embedded Methods =\n",
    "모델 학습 과정 내부에서 자동으로 feature 중요도를 평가하고\n",
    "불필요한 변수를 제거하는 방법입니다.\n",
    "모델이 학습할 때 이미 “어떤 feature가 중요한지” 계산해주므로\n",
    "Wrapper보다 훨씬 빠르고 효율적이에요\n",
    "\n",
    "Filter   통계적으로 feature 중요도를 측정 (모델 X)\n",
    "Wrapper  여러 모델을 학습해 성능으로 feature 선택\n",
    "Embedded 모델 학습 중에 feature 중요도를 계산해서 자동 선택\n",
    "\n",
    "Lasso (L1 Regularization) 중요하지 않은 feature의 가중치를 0으로 만듦\n",
    "Elastic Net L1(희소성) + L2(안정성) 결합\n",
    "Decision Tree / RandomForest / XGBoost feature importance(불순도 감소량) 사용\n",
    "Logistic Regression (L1) 분류 문제에서 L1 패널티로 feature 제거"
   ]
  },
  {
   "cell_type": "code",
   "execution_count": 60,
   "id": "44774980",
   "metadata": {},
   "outputs": [
    {
     "name": "stdout",
     "output_type": "stream",
     "text": [
      "Feature importance (Lasso):\n",
      " Humidity        54.489926\n",
      "Temperature     44.026677\n",
      "Soil_Quality     3.998458\n",
      "P                3.389233\n",
      "N               -0.710848\n",
      "Soil_pH          0.071245\n",
      "Wind_Speed      -0.008119\n",
      "K               -0.000000\n",
      "dtype: float64\n"
     ]
    },
    {
     "data": {
      "image/png": "[encoded data removed]",
      "text/plain": [
       "<Figure size 640x480 with 1 Axes>"
      ]
     },
     "metadata": {},
     "output_type": "display_data"
    }
   ],
   "source": [
    "# Lasso Regression (L1 Regularization)\n",
    "# 회귀계수가 0이면 → 불필요한 feature 제거됨\n",
    "# 절댓값이 클수록 → 영향력이 큰 feature\n",
    "\n",
    "from sklearn.linear_model import LassoCV\n",
    "from sklearn.preprocessing import StandardScaler\n",
    "from sklearn.pipeline import Pipeline\n",
    "\n",
    "# 1) 피처와 타깃 설정 / Define features & target\n",
    "X = df[['Temperature', 'Humidity', 'Wind_Speed', 'Soil_pH', 'N', 'P', 'K', 'Soil_Quality']]\n",
    "y = df['Crop_Yield']\n",
    "\n",
    "# 2) 스케일링 + Lasso 파이프라인 / Pipeline with scaling\n",
    "lasso_pipe = Pipeline([\n",
    "    ('scaler', StandardScaler()),\n",
    "    ('lasso', LassoCV(cv=5, random_state=42))\n",
    "])\n",
    "\n",
    "# 3) 모델 학습 / Fit model\n",
    "lasso_pipe.fit(X, y)\n",
    "\n",
    "# 4) 중요도 출력 / Print coefficients\n",
    "coefs = lasso_pipe.named_steps['lasso'].coef_\n",
    "importance = pd.Series(coefs, index=X.columns).sort_values(key=abs, ascending=False)\n",
    "print(\"Feature importance (Lasso):\\n\", importance)\n",
    "\n",
    "# 5) 시각화 / visualize\n",
    "import matplotlib.pyplot as plt\n",
    "importance.plot(kind='bar', title=\"Lasso Feature Importance\")\n",
    "plt.show()\n"
   ]
  },
  {
   "cell_type": "code",
   "execution_count": 61,
   "id": "0c8ca4b4",
   "metadata": {},
   "outputs": [
    {
     "name": "stdout",
     "output_type": "stream",
     "text": [
      "Feature importance (RandomForest):\n",
      " Temperature     0.534146\n",
      "Humidity        0.182402\n",
      "Soil_Quality    0.137806\n",
      "N               0.065334\n",
      "P               0.053729\n",
      "K               0.009400\n",
      "Wind_Speed      0.009173\n",
      "Soil_pH         0.008009\n",
      "dtype: float64\n"
     ]
    },
    {
     "data": {
      "image/png": "[encoded data removed]",
      "text/plain": [
       "<Figure size 640x480 with 1 Axes>"
      ]
     },
     "metadata": {},
     "output_type": "display_data"
    }
   ],
   "source": [
    "# RandomForest (Tree-based Embedded)\n",
    "# 값이 높을수록 해당 feature가 모델 예측에 큰 기여를 함\n",
    "# Wrapper보다 빠르지만 여전히 모델 기반이므로 강력\n",
    "\n",
    "from sklearn.ensemble import RandomForestRegressor\n",
    "\n",
    "rf = RandomForestRegressor(n_estimators=300, random_state=42)\n",
    "rf.fit(X, y)\n",
    "\n",
    "importance = pd.Series(rf.feature_importances_, index=X.columns).sort_values(ascending=False)\n",
    "print(\"Feature importance (RandomForest):\\n\", importance)\n",
    "\n",
    "importance.plot(kind='bar', title=\"RandomForest Feature Importance\")\n",
    "plt.show()"
   ]
  },
  {
   "cell_type": "markdown",
   "id": "2863c6ca",
   "metadata": {},
   "source": [
    "df = pd.read_csv('../dataset/processed/crop_yield_cleansing_data.csv')"
   ]
  },
  {
   "cell_type": "code",
   "execution_count": 63,
   "id": "c89b2790",
   "metadata": {},
   "outputs": [
    {
     "name": "stdout",
     "output_type": "stream",
     "text": [
      "Baseline(valid): {'RMSE': np.float64(15.155418826567157), 'MAE': np.float64(11.700779349561751), 'R2': 0.6456797006168515}\n",
      "[ridge] valid: {'RMSE': np.float64(15.155418826567157), 'MAE': np.float64(11.700779349561751), 'R2': 0.6456797006168515}  best_params: {'clf__alpha': 1.0}\n"
     ]
    },
    {
     "ename": "KeyboardInterrupt",
     "evalue": "",
     "output_type": "error",
     "traceback": [
      "\u001b[31m---------------------------------------------------------------------------\u001b[39m",
      "\u001b[31mKeyboardInterrupt\u001b[39m                         Traceback (most recent call last)",
      "\u001b[36mCell\u001b[39m\u001b[36m \u001b[39m\u001b[32mIn[63]\u001b[39m\u001b[32m, line 107\u001b[39m\n\u001b[32m    101\u001b[39m pipe = Pipeline([(\u001b[33m\"\u001b[39m\u001b[33mprep\u001b[39m\u001b[33m\"\u001b[39m, preprocess), (\u001b[33m\"\u001b[39m\u001b[33mclf\u001b[39m\u001b[33m\"\u001b[39m, est)])\n\u001b[32m    102\u001b[39m gs = GridSearchCV(\n\u001b[32m    103\u001b[39m     pipe, grid, cv=cv,\n\u001b[32m    104\u001b[39m     scoring=\u001b[33m\"\u001b[39m\u001b[33mneg_root_mean_squared_error\u001b[39m\u001b[33m\"\u001b[39m,\n\u001b[32m    105\u001b[39m     n_jobs=-\u001b[32m1\u001b[39m, refit=\u001b[38;5;28;01mTrue\u001b[39;00m\n\u001b[32m    106\u001b[39m )\n\u001b[32m--> \u001b[39m\u001b[32m107\u001b[39m \u001b[43mgs\u001b[49m\u001b[43m.\u001b[49m\u001b[43mfit\u001b[49m\u001b[43m(\u001b[49m\u001b[43mX_train\u001b[49m\u001b[43m,\u001b[49m\u001b[43m \u001b[49m\u001b[43my_train\u001b[49m\u001b[43m)\u001b[49m\n\u001b[32m    108\u001b[39m pred = gs.best_estimator_.predict(X_valid)\n\u001b[32m    109\u001b[39m metrics = eval_reg(y_valid, pred)\n",
      "\u001b[36mFile \u001b[39m\u001b[32mc:\\Lincolnuni\\COMP_647\\project\\1158238\\.venv\\Lib\\site-packages\\sklearn\\base.py:1365\u001b[39m, in \u001b[36m_fit_context.<locals>.decorator.<locals>.wrapper\u001b[39m\u001b[34m(estimator, *args, **kwargs)\u001b[39m\n\u001b[32m   1358\u001b[39m     estimator._validate_params()\n\u001b[32m   1360\u001b[39m \u001b[38;5;28;01mwith\u001b[39;00m config_context(\n\u001b[32m   1361\u001b[39m     skip_parameter_validation=(\n\u001b[32m   1362\u001b[39m         prefer_skip_nested_validation \u001b[38;5;129;01mor\u001b[39;00m global_skip_validation\n\u001b[32m   1363\u001b[39m     )\n\u001b[32m   1364\u001b[39m ):\n\u001b[32m-> \u001b[39m\u001b[32m1365\u001b[39m     \u001b[38;5;28;01mreturn\u001b[39;00m \u001b[43mfit_method\u001b[49m\u001b[43m(\u001b[49m\u001b[43mestimator\u001b[49m\u001b[43m,\u001b[49m\u001b[43m \u001b[49m\u001b[43m*\u001b[49m\u001b[43margs\u001b[49m\u001b[43m,\u001b[49m\u001b[43m \u001b[49m\u001b[43m*\u001b[49m\u001b[43m*\u001b[49m\u001b[43mkwargs\u001b[49m\u001b[43m)\u001b[49m\n",
      "\u001b[36mFile \u001b[39m\u001b[32mc:\\Lincolnuni\\COMP_647\\project\\1158238\\.venv\\Lib\\site-packages\\sklearn\\model_selection\\_search.py:1051\u001b[39m, in \u001b[36mBaseSearchCV.fit\u001b[39m\u001b[34m(self, X, y, **params)\u001b[39m\n\u001b[32m   1045\u001b[39m     results = \u001b[38;5;28mself\u001b[39m._format_results(\n\u001b[32m   1046\u001b[39m         all_candidate_params, n_splits, all_out, all_more_results\n\u001b[32m   1047\u001b[39m     )\n\u001b[32m   1049\u001b[39m     \u001b[38;5;28;01mreturn\u001b[39;00m results\n\u001b[32m-> \u001b[39m\u001b[32m1051\u001b[39m \u001b[38;5;28;43mself\u001b[39;49m\u001b[43m.\u001b[49m\u001b[43m_run_search\u001b[49m\u001b[43m(\u001b[49m\u001b[43mevaluate_candidates\u001b[49m\u001b[43m)\u001b[49m\n\u001b[32m   1053\u001b[39m \u001b[38;5;66;03m# multimetric is determined here because in the case of a callable\u001b[39;00m\n\u001b[32m   1054\u001b[39m \u001b[38;5;66;03m# self.scoring the return type is only known after calling\u001b[39;00m\n\u001b[32m   1055\u001b[39m first_test_score = all_out[\u001b[32m0\u001b[39m][\u001b[33m\"\u001b[39m\u001b[33mtest_scores\u001b[39m\u001b[33m\"\u001b[39m]\n",
      "\u001b[36mFile \u001b[39m\u001b[32mc:\\Lincolnuni\\COMP_647\\project\\1158238\\.venv\\Lib\\site-packages\\sklearn\\model_selection\\_search.py:1605\u001b[39m, in \u001b[36mGridSearchCV._run_search\u001b[39m\u001b[34m(self, evaluate_candidates)\u001b[39m\n\u001b[32m   1603\u001b[39m \u001b[38;5;28;01mdef\u001b[39;00m\u001b[38;5;250m \u001b[39m\u001b[34m_run_search\u001b[39m(\u001b[38;5;28mself\u001b[39m, evaluate_candidates):\n\u001b[32m   1604\u001b[39m \u001b[38;5;250m    \u001b[39m\u001b[33;03m\"\"\"Search all candidates in param_grid\"\"\"\u001b[39;00m\n\u001b[32m-> \u001b[39m\u001b[32m1605\u001b[39m     \u001b[43mevaluate_candidates\u001b[49m\u001b[43m(\u001b[49m\u001b[43mParameterGrid\u001b[49m\u001b[43m(\u001b[49m\u001b[38;5;28;43mself\u001b[39;49m\u001b[43m.\u001b[49m\u001b[43mparam_grid\u001b[49m\u001b[43m)\u001b[49m\u001b[43m)\u001b[49m\n",
      "\u001b[36mFile \u001b[39m\u001b[32mc:\\Lincolnuni\\COMP_647\\project\\1158238\\.venv\\Lib\\site-packages\\sklearn\\model_selection\\_search.py:997\u001b[39m, in \u001b[36mBaseSearchCV.fit.<locals>.evaluate_candidates\u001b[39m\u001b[34m(candidate_params, cv, more_results)\u001b[39m\n\u001b[32m    989\u001b[39m \u001b[38;5;28;01mif\u001b[39;00m \u001b[38;5;28mself\u001b[39m.verbose > \u001b[32m0\u001b[39m:\n\u001b[32m    990\u001b[39m     \u001b[38;5;28mprint\u001b[39m(\n\u001b[32m    991\u001b[39m         \u001b[33m\"\u001b[39m\u001b[33mFitting \u001b[39m\u001b[38;5;132;01m{0}\u001b[39;00m\u001b[33m folds for each of \u001b[39m\u001b[38;5;132;01m{1}\u001b[39;00m\u001b[33m candidates,\u001b[39m\u001b[33m\"\u001b[39m\n\u001b[32m    992\u001b[39m         \u001b[33m\"\u001b[39m\u001b[33m totalling \u001b[39m\u001b[38;5;132;01m{2}\u001b[39;00m\u001b[33m fits\u001b[39m\u001b[33m\"\u001b[39m.format(\n\u001b[32m    993\u001b[39m             n_splits, n_candidates, n_candidates * n_splits\n\u001b[32m    994\u001b[39m         )\n\u001b[32m    995\u001b[39m     )\n\u001b[32m--> \u001b[39m\u001b[32m997\u001b[39m out = \u001b[43mparallel\u001b[49m\u001b[43m(\u001b[49m\n\u001b[32m    998\u001b[39m \u001b[43m    \u001b[49m\u001b[43mdelayed\u001b[49m\u001b[43m(\u001b[49m\u001b[43m_fit_and_score\u001b[49m\u001b[43m)\u001b[49m\u001b[43m(\u001b[49m\n\u001b[32m    999\u001b[39m \u001b[43m        \u001b[49m\u001b[43mclone\u001b[49m\u001b[43m(\u001b[49m\u001b[43mbase_estimator\u001b[49m\u001b[43m)\u001b[49m\u001b[43m,\u001b[49m\n\u001b[32m   1000\u001b[39m \u001b[43m        \u001b[49m\u001b[43mX\u001b[49m\u001b[43m,\u001b[49m\n\u001b[32m   1001\u001b[39m \u001b[43m        \u001b[49m\u001b[43my\u001b[49m\u001b[43m,\u001b[49m\n\u001b[32m   1002\u001b[39m \u001b[43m        \u001b[49m\u001b[43mtrain\u001b[49m\u001b[43m=\u001b[49m\u001b[43mtrain\u001b[49m\u001b[43m,\u001b[49m\n\u001b[32m   1003\u001b[39m \u001b[43m        \u001b[49m\u001b[43mtest\u001b[49m\u001b[43m=\u001b[49m\u001b[43mtest\u001b[49m\u001b[43m,\u001b[49m\n\u001b[32m   1004\u001b[39m \u001b[43m        \u001b[49m\u001b[43mparameters\u001b[49m\u001b[43m=\u001b[49m\u001b[43mparameters\u001b[49m\u001b[43m,\u001b[49m\n\u001b[32m   1005\u001b[39m \u001b[43m        \u001b[49m\u001b[43msplit_progress\u001b[49m\u001b[43m=\u001b[49m\u001b[43m(\u001b[49m\u001b[43msplit_idx\u001b[49m\u001b[43m,\u001b[49m\u001b[43m \u001b[49m\u001b[43mn_splits\u001b[49m\u001b[43m)\u001b[49m\u001b[43m,\u001b[49m\n\u001b[32m   1006\u001b[39m \u001b[43m        \u001b[49m\u001b[43mcandidate_progress\u001b[49m\u001b[43m=\u001b[49m\u001b[43m(\u001b[49m\u001b[43mcand_idx\u001b[49m\u001b[43m,\u001b[49m\u001b[43m \u001b[49m\u001b[43mn_candidates\u001b[49m\u001b[43m)\u001b[49m\u001b[43m,\u001b[49m\n\u001b[32m   1007\u001b[39m \u001b[43m        \u001b[49m\u001b[43m*\u001b[49m\u001b[43m*\u001b[49m\u001b[43mfit_and_score_kwargs\u001b[49m\u001b[43m,\u001b[49m\n\u001b[32m   1008\u001b[39m \u001b[43m    \u001b[49m\u001b[43m)\u001b[49m\n\u001b[32m   1009\u001b[39m \u001b[43m    \u001b[49m\u001b[38;5;28;43;01mfor\u001b[39;49;00m\u001b[43m \u001b[49m\u001b[43m(\u001b[49m\u001b[43mcand_idx\u001b[49m\u001b[43m,\u001b[49m\u001b[43m \u001b[49m\u001b[43mparameters\u001b[49m\u001b[43m)\u001b[49m\u001b[43m,\u001b[49m\u001b[43m \u001b[49m\u001b[43m(\u001b[49m\u001b[43msplit_idx\u001b[49m\u001b[43m,\u001b[49m\u001b[43m \u001b[49m\u001b[43m(\u001b[49m\u001b[43mtrain\u001b[49m\u001b[43m,\u001b[49m\u001b[43m \u001b[49m\u001b[43mtest\u001b[49m\u001b[43m)\u001b[49m\u001b[43m)\u001b[49m\u001b[43m \u001b[49m\u001b[38;5;129;43;01min\u001b[39;49;00m\u001b[43m \u001b[49m\u001b[43mproduct\u001b[49m\u001b[43m(\u001b[49m\n\u001b[32m   1010\u001b[39m \u001b[43m        \u001b[49m\u001b[38;5;28;43menumerate\u001b[39;49m\u001b[43m(\u001b[49m\u001b[43mcandidate_params\u001b[49m\u001b[43m)\u001b[49m\u001b[43m,\u001b[49m\n\u001b[32m   1011\u001b[39m \u001b[43m        \u001b[49m\u001b[38;5;28;43menumerate\u001b[39;49m\u001b[43m(\u001b[49m\u001b[43mcv\u001b[49m\u001b[43m.\u001b[49m\u001b[43msplit\u001b[49m\u001b[43m(\u001b[49m\u001b[43mX\u001b[49m\u001b[43m,\u001b[49m\u001b[43m \u001b[49m\u001b[43my\u001b[49m\u001b[43m,\u001b[49m\u001b[43m \u001b[49m\u001b[43m*\u001b[49m\u001b[43m*\u001b[49m\u001b[43mrouted_params\u001b[49m\u001b[43m.\u001b[49m\u001b[43msplitter\u001b[49m\u001b[43m.\u001b[49m\u001b[43msplit\u001b[49m\u001b[43m)\u001b[49m\u001b[43m)\u001b[49m\u001b[43m,\u001b[49m\n\u001b[32m   1012\u001b[39m \u001b[43m    \u001b[49m\u001b[43m)\u001b[49m\n\u001b[32m   1013\u001b[39m \u001b[43m\u001b[49m\u001b[43m)\u001b[49m\n\u001b[32m   1015\u001b[39m \u001b[38;5;28;01mif\u001b[39;00m \u001b[38;5;28mlen\u001b[39m(out) < \u001b[32m1\u001b[39m:\n\u001b[32m   1016\u001b[39m     \u001b[38;5;28;01mraise\u001b[39;00m \u001b[38;5;167;01mValueError\u001b[39;00m(\n\u001b[32m   1017\u001b[39m         \u001b[33m\"\u001b[39m\u001b[33mNo fits were performed. \u001b[39m\u001b[33m\"\u001b[39m\n\u001b[32m   1018\u001b[39m         \u001b[33m\"\u001b[39m\u001b[33mWas the CV iterator empty? \u001b[39m\u001b[33m\"\u001b[39m\n\u001b[32m   1019\u001b[39m         \u001b[33m\"\u001b[39m\u001b[33mWere there no candidates?\u001b[39m\u001b[33m\"\u001b[39m\n\u001b[32m   1020\u001b[39m     )\n",
      "\u001b[36mFile \u001b[39m\u001b[32mc:\\Lincolnuni\\COMP_647\\project\\1158238\\.venv\\Lib\\site-packages\\sklearn\\utils\\parallel.py:82\u001b[39m, in \u001b[36mParallel.__call__\u001b[39m\u001b[34m(self, iterable)\u001b[39m\n\u001b[32m     73\u001b[39m warning_filters = warnings.filters\n\u001b[32m     74\u001b[39m iterable_with_config_and_warning_filters = (\n\u001b[32m     75\u001b[39m     (\n\u001b[32m     76\u001b[39m         _with_config_and_warning_filters(delayed_func, config, warning_filters),\n\u001b[32m   (...)\u001b[39m\u001b[32m     80\u001b[39m     \u001b[38;5;28;01mfor\u001b[39;00m delayed_func, args, kwargs \u001b[38;5;129;01min\u001b[39;00m iterable\n\u001b[32m     81\u001b[39m )\n\u001b[32m---> \u001b[39m\u001b[32m82\u001b[39m \u001b[38;5;28;01mreturn\u001b[39;00m \u001b[38;5;28;43msuper\u001b[39;49m\u001b[43m(\u001b[49m\u001b[43m)\u001b[49m\u001b[43m.\u001b[49m\u001b[34;43m__call__\u001b[39;49m\u001b[43m(\u001b[49m\u001b[43miterable_with_config_and_warning_filters\u001b[49m\u001b[43m)\u001b[49m\n",
      "\u001b[36mFile \u001b[39m\u001b[32mc:\\Lincolnuni\\COMP_647\\project\\1158238\\.venv\\Lib\\site-packages\\joblib\\parallel.py:2072\u001b[39m, in \u001b[36mParallel.__call__\u001b[39m\u001b[34m(self, iterable)\u001b[39m\n\u001b[32m   2066\u001b[39m \u001b[38;5;66;03m# The first item from the output is blank, but it makes the interpreter\u001b[39;00m\n\u001b[32m   2067\u001b[39m \u001b[38;5;66;03m# progress until it enters the Try/Except block of the generator and\u001b[39;00m\n\u001b[32m   2068\u001b[39m \u001b[38;5;66;03m# reaches the first `yield` statement. This starts the asynchronous\u001b[39;00m\n\u001b[32m   2069\u001b[39m \u001b[38;5;66;03m# dispatch of the tasks to the workers.\u001b[39;00m\n\u001b[32m   2070\u001b[39m \u001b[38;5;28mnext\u001b[39m(output)\n\u001b[32m-> \u001b[39m\u001b[32m2072\u001b[39m \u001b[38;5;28;01mreturn\u001b[39;00m output \u001b[38;5;28;01mif\u001b[39;00m \u001b[38;5;28mself\u001b[39m.return_generator \u001b[38;5;28;01melse\u001b[39;00m \u001b[38;5;28;43mlist\u001b[39;49m\u001b[43m(\u001b[49m\u001b[43moutput\u001b[49m\u001b[43m)\u001b[49m\n",
      "\u001b[36mFile \u001b[39m\u001b[32mc:\\Lincolnuni\\COMP_647\\project\\1158238\\.venv\\Lib\\site-packages\\joblib\\parallel.py:1682\u001b[39m, in \u001b[36mParallel._get_outputs\u001b[39m\u001b[34m(self, iterator, pre_dispatch)\u001b[39m\n\u001b[32m   1679\u001b[39m     \u001b[38;5;28;01myield\u001b[39;00m\n\u001b[32m   1681\u001b[39m     \u001b[38;5;28;01mwith\u001b[39;00m \u001b[38;5;28mself\u001b[39m._backend.retrieval_context():\n\u001b[32m-> \u001b[39m\u001b[32m1682\u001b[39m         \u001b[38;5;28;01myield from\u001b[39;00m \u001b[38;5;28mself\u001b[39m._retrieve()\n\u001b[32m   1684\u001b[39m \u001b[38;5;28;01mexcept\u001b[39;00m \u001b[38;5;167;01mGeneratorExit\u001b[39;00m:\n\u001b[32m   1685\u001b[39m     \u001b[38;5;66;03m# The generator has been garbage collected before being fully\u001b[39;00m\n\u001b[32m   1686\u001b[39m     \u001b[38;5;66;03m# consumed. This aborts the remaining tasks if possible and warn\u001b[39;00m\n\u001b[32m   1687\u001b[39m     \u001b[38;5;66;03m# the user if necessary.\u001b[39;00m\n\u001b[32m   1688\u001b[39m     \u001b[38;5;28mself\u001b[39m._exception = \u001b[38;5;28;01mTrue\u001b[39;00m\n",
      "\u001b[36mFile \u001b[39m\u001b[32mc:\\Lincolnuni\\COMP_647\\project\\1158238\\.venv\\Lib\\site-packages\\joblib\\parallel.py:1800\u001b[39m, in \u001b[36mParallel._retrieve\u001b[39m\u001b[34m(self)\u001b[39m\n\u001b[32m   1789\u001b[39m \u001b[38;5;28;01mif\u001b[39;00m \u001b[38;5;28mself\u001b[39m.return_ordered:\n\u001b[32m   1790\u001b[39m     \u001b[38;5;66;03m# Case ordered: wait for completion (or error) of the next job\u001b[39;00m\n\u001b[32m   1791\u001b[39m     \u001b[38;5;66;03m# that have been dispatched and not retrieved yet. If no job\u001b[39;00m\n\u001b[32m   (...)\u001b[39m\u001b[32m   1795\u001b[39m     \u001b[38;5;66;03m# control only have to be done on the amount of time the next\u001b[39;00m\n\u001b[32m   1796\u001b[39m     \u001b[38;5;66;03m# dispatched job is pending.\u001b[39;00m\n\u001b[32m   1797\u001b[39m     \u001b[38;5;28;01mif\u001b[39;00m (nb_jobs == \u001b[32m0\u001b[39m) \u001b[38;5;129;01mor\u001b[39;00m (\n\u001b[32m   1798\u001b[39m         \u001b[38;5;28mself\u001b[39m._jobs[\u001b[32m0\u001b[39m].get_status(timeout=\u001b[38;5;28mself\u001b[39m.timeout) == TASK_PENDING\n\u001b[32m   1799\u001b[39m     ):\n\u001b[32m-> \u001b[39m\u001b[32m1800\u001b[39m         \u001b[43mtime\u001b[49m\u001b[43m.\u001b[49m\u001b[43msleep\u001b[49m\u001b[43m(\u001b[49m\u001b[32;43m0.01\u001b[39;49m\u001b[43m)\u001b[49m\n\u001b[32m   1801\u001b[39m         \u001b[38;5;28;01mcontinue\u001b[39;00m\n\u001b[32m   1803\u001b[39m \u001b[38;5;28;01melif\u001b[39;00m nb_jobs == \u001b[32m0\u001b[39m:\n\u001b[32m   1804\u001b[39m     \u001b[38;5;66;03m# Case unordered: jobs are added to the list of jobs to\u001b[39;00m\n\u001b[32m   1805\u001b[39m     \u001b[38;5;66;03m# retrieve `self._jobs` only once completed or in error, which\u001b[39;00m\n\u001b[32m   (...)\u001b[39m\u001b[32m   1811\u001b[39m     \u001b[38;5;66;03m# timeouts before any other dispatched job has completed and\u001b[39;00m\n\u001b[32m   1812\u001b[39m     \u001b[38;5;66;03m# been added to `self._jobs` to be retrieved.\u001b[39;00m\n",
      "\u001b[31mKeyboardInterrupt\u001b[39m: "
     ]
    }
   ],
   "source": [
    "# === 0) 기본 설정 ===\n",
    "import numpy as np, pandas as pd, joblib, warnings\n",
    "warnings.filterwarnings(\"ignore\")\n",
    "\n",
    "from sklearn.model_selection import train_test_split, KFold, GridSearchCV\n",
    "from sklearn.compose import ColumnTransformer\n",
    "from sklearn.pipeline import Pipeline\n",
    "from sklearn.impute import SimpleImputer\n",
    "from sklearn.preprocessing import OneHotEncoder, StandardScaler\n",
    "from sklearn.metrics import mean_squared_error, mean_absolute_error, r2_score\n",
    "from sklearn.linear_model import Ridge\n",
    "from sklearn.ensemble import RandomForestRegressor\n",
    "from sklearn.inspection import permutation_importance\n",
    "\n",
    "RANDOM_STATE = 42\n",
    "\n",
    "# === 1) 데이터 로드 & 컬럼 지정 ===\n",
    "df = pd.read_csv('../dataset/processed/crop_yield_cleansing_data.csv')  \n",
    "\n",
    "y_col = \"Crop_Yield\"\n",
    "target_type = \"regression\"\n",
    "\n",
    "cat_cols = [\"Crop_Type\", \"Soil_Type\"]  # 범주형\n",
    "# Date는 Year/Month/Day가 이미 있어서 제외 (중복/누수 방지)\n",
    "num_cols = [\n",
    "    \"Soil_pH\",\"Temperature\",\"Humidity\",\"Wind_Speed\",\n",
    "    \"N\",\"P\",\"K\",\"Soil_Quality\",\n",
    "    \"Year\",\"Month\",\"Day\",\n",
    "    \"Temperature_orig\",\"Humidity_orig\",\"Wind_Speed_orig\",\"Soil_Quality_orig\"\n",
    "]\n",
    "\n",
    "X = df[cat_cols + num_cols].copy()\n",
    "y = df[y_col].copy()\n",
    "\n",
    "# === 2) 데이터 분리 (train/valid/test) ===\n",
    "test_size = 0.15\n",
    "valid_size = 0.15\n",
    "\n",
    "X_train_full, X_test, y_train_full, y_test = train_test_split(\n",
    "    X, y, test_size=test_size, random_state=RANDOM_STATE\n",
    ")\n",
    "X_train, X_valid, y_train, y_valid = train_test_split(\n",
    "    X_train_full, y_train_full,\n",
    "    test_size=valid_size/(1-test_size), random_state=RANDOM_STATE\n",
    ")\n",
    "\n",
    "# === 3) 전처리 파이프라인 ===\n",
    "num_pipe = Pipeline([\n",
    "    (\"imp\", SimpleImputer(strategy=\"median\")),\n",
    "    (\"scaler\", StandardScaler())\n",
    "])\n",
    "cat_pipe = Pipeline([\n",
    "    (\"imp\", SimpleImputer(strategy=\"most_frequent\")),\n",
    "    (\"ohe\", OneHotEncoder(handle_unknown=\"ignore\", sparse_output=False))\n",
    "])\n",
    "preprocess = ColumnTransformer([\n",
    "    (\"num\", num_pipe, num_cols),\n",
    "    (\"cat\", cat_pipe, cat_cols)\n",
    "])\n",
    "\n",
    "# === 4) 베이스라인 & 후보 모델 ===\n",
    "baseline = Pipeline([\n",
    "    (\"prep\", preprocess),\n",
    "    (\"clf\", Ridge())\n",
    "])\n",
    "\n",
    "model_candidates = {\n",
    "    \"ridge\": (Ridge(), {\n",
    "        \"clf__alpha\": [0.1, 1.0, 10.0, 100.0]\n",
    "    }),\n",
    "    \"rf\": (RandomForestRegressor(random_state=RANDOM_STATE), {\n",
    "        \"clf__n_estimators\": [300, 600],\n",
    "        \"clf__max_depth\": [None, 12, 20],\n",
    "        \"clf__min_samples_split\": [2, 5],\n",
    "        \"clf__min_samples_leaf\": [1, 2]\n",
    "    })\n",
    "}\n",
    "\n",
    "cv = KFold(n_splits=5, shuffle=True, random_state=RANDOM_STATE)\n",
    "\n",
    "def eval_reg(y_true, y_pred):\n",
    "    # 버전 호환 RMSE\n",
    "    try:\n",
    "        rmse = mean_squared_error(y_true, y_pred, squared=False)\n",
    "    except TypeError:\n",
    "        # 구버전: squared 인자 없음 → 직접 제곱근\n",
    "        rmse = np.sqrt(mean_squared_error(y_true, y_pred))\n",
    "    mae = np.abs(y_true - y_pred).mean()\n",
    "    # R2는 버전에 상관없이 동일\n",
    "    from sklearn.metrics import r2_score\n",
    "    return {\"RMSE\": rmse, \"MAE\": mae, \"R2\": r2_score(y_true, y_pred)}\n",
    "\n",
    "# === 5) 베이스라인 성능 ===\n",
    "baseline.fit(X_train, y_train)\n",
    "pred_b = baseline.predict(X_valid)\n",
    "print(\"Baseline(valid):\", eval_reg(y_valid, pred_b))\n",
    "\n",
    "# === 6) 하이퍼파라미터 튜닝 ===\n",
    "best_model, best_name, best_key = None, None, None\n",
    "for name, (est, grid) in model_candidates.items():\n",
    "    pipe = Pipeline([(\"prep\", preprocess), (\"clf\", est)])\n",
    "    gs = GridSearchCV(\n",
    "        pipe, grid, cv=cv,\n",
    "        scoring=\"neg_root_mean_squared_error\",\n",
    "        n_jobs=-1, refit=True\n",
    "    )\n",
    "    gs.fit(X_train, y_train)\n",
    "    pred = gs.best_estimator_.predict(X_valid)\n",
    "    metrics = eval_reg(y_valid, pred)\n",
    "    key = -metrics[\"RMSE\"]\n",
    "    print(f\"[{name}] valid:\", metrics, \" best_params:\", gs.best_params_)\n",
    "    if (best_key is None) or (key > best_key):\n",
    "        best_key, best_model, best_name = key, gs.best_estimator_, name\n",
    "\n",
    "print(f\"\\n[Best] {best_name} selected.\")\n",
    "\n",
    "# === 7) 테스트 세트 최종 평가 ===\n",
    "y_pred = best_model.predict(X_test)\n",
    "print(\"Test metrics:\", eval_reg(y_test, y_pred))\n",
    "\n",
    "# === 8) 중요도(퍼뮤테이션) ===\n",
    "try:\n",
    "    result = permutation_importance(best_model, X_valid, y_valid, n_repeats=5, random_state=RANDOM_STATE)\n",
    "    feat_names = best_model.named_steps[\"prep\"].get_feature_names_out()\n",
    "    importances = pd.Series(result.importances_mean, index=feat_names).sort_values(ascending=False)\n",
    "    print(\"\\nTop 15 features:\\n\", importances.head(15))\n",
    "except Exception as e:\n",
    "    print(\"Permutation importance skipped:\", e)\n",
    "\n",
    "# === 9) 모델 저장 ===\n",
    "joblib.dump(best_model, \"crop_yield_model_1.joblib\")\n",
    "print(\"\\nModel saved: crop_yield_model_1.joblib\")\n"
   ]
  },
  {
   "cell_type": "code",
   "execution_count": 65,
   "id": "69be9549",
   "metadata": {},
   "outputs": [
    {
     "name": "stdout",
     "output_type": "stream",
     "text": [
      "[OK] Splits saved in 'artifacts/'\n"
     ]
    }
   ],
   "source": [
    "# 1_learn_split.py — 데이터 로드 & 분할 저장\n",
    "# 01_learn_split.py\n",
    "# df = pd.read_csv('../dataset/processed/crop_yield_cleansing_data.csv')\n",
    "\n",
    "import pandas as pd\n",
    "from sklearn.model_selection import train_test_split\n",
    "import os, json\n",
    "\n",
    "\n",
    "\n",
    "RANDOM_STATE = 42\n",
    "CSV_PATH = \"../dataset/processed/crop_yield_cleansing_data.csv\"  # ← CSV 경로만 수정하세요\n",
    "MODEL_DATASET_DIR = \"model_dataset\"\n",
    "os.makedirs(MODEL_DATASET_DIR, exist_ok=True)\n",
    "\n",
    "# ===== 컬럼 정의 =====\n",
    "TARGET = \"Crop_Yield\"\n",
    "CAT_COLS = [\"Crop_Type\", \"Soil_Type\"]\n",
    "NUM_COLS = [\n",
    "    \"Soil_pH\",\"Temperature\",\"Humidity\",\"Wind_Speed\",\n",
    "    \"N\",\"P\",\"K\",\"Soil_Quality\",\n",
    "    \"Year\",\"Month\",\"Day\",\n",
    "    \"Temperature_orig\",\"Humidity_orig\",\"Wind_Speed_orig\",\"Soil_Quality_orig\"\n",
    "]\n",
    "\n",
    "def main():\n",
    "    df = pd.read_csv(CSV_PATH)\n",
    "    X = df[CAT_COLS + NUM_COLS].copy()\n",
    "    y = df[TARGET].copy()\n",
    "\n",
    "    # train / valid / test = 70 / 15 / 15\n",
    "    X_train_full, X_test, y_train_full, y_test = train_test_split(\n",
    "        X, y, test_size=0.15, random_state=RANDOM_STATE\n",
    "    )\n",
    "    X_train, X_valid, y_train, y_valid = train_test_split(\n",
    "        X_train_full, y_train_full,\n",
    "        test_size=0.15/(1-0.15), random_state=RANDOM_STATE\n",
    "    )\n",
    "\n",
    "    # 저장\n",
    "    X_train.to_csv(f\"{MODEL_DATASET_DIR}/X_train.csv\", index=False)\n",
    "    y_train.to_csv(f\"{MODEL_DATASET_DIR}/y_train.csv\", index=False)\n",
    "    X_valid.to_csv(f\"{MODEL_DATASET_DIR}/X_valid.csv\", index=False)\n",
    "    y_valid.to_csv(f\"{MODEL_DATASET_DIR}/y_valid.csv\", index=False)\n",
    "    X_test.to_csv(f\"{MODEL_DATASET_DIR}/X_test.csv\", index=False)\n",
    "    y_test.to_csv(f\"{MODEL_DATASET_DIR}/y_test.csv\", index=False)\n",
    "\n",
    "    meta = {\n",
    "        \"random_state\": RANDOM_STATE,\n",
    "        \"target\": TARGET,\n",
    "        \"cat_cols\": CAT_COLS,\n",
    "        \"num_cols\": NUM_COLS\n",
    "    }\n",
    "    with open(f\"{MODEL_DATASET_DIR}/meta.json\", \"w\", encoding=\"utf-8\") as f:\n",
    "        json.dump(meta, f, ensure_ascii=False, indent=2)\n",
    "\n",
    "    print(\"[OK] Splits saved in 'artifacts/'\")\n",
    "\n",
    "if __name__ == \"__main__\":\n",
    "    main()"
   ]
  },
  {
   "cell_type": "code",
   "execution_count": null,
   "id": "96004bf2",
   "metadata": {},
   "outputs": [],
   "source": [
    "#02_build_model.py\n",
    "\n",
    "# 02_build_model.py\n",
    "import os, json, warnings\n",
    "warnings.filterwarnings(\"ignore\")\n",
    "\n",
    "import numpy as np, pandas as pd, joblib\n",
    "from sklearn.compose import ColumnTransformer\n",
    "from sklearn.pipeline import Pipeline\n",
    "from sklearn.impute import SimpleImputer\n",
    "from sklearn.preprocessing import OneHotEncoder, StandardScaler\n",
    "from sklearn.model_selection import KFold, GridSearchCV\n",
    "from sklearn.linear_model import Ridge\n",
    "from sklearn.ensemble import RandomForestRegressor\n",
    "from sklearn.metrics import mean_squared_error, mean_absolute_error, r2_score\n",
    "\n",
    "MODEL_DATASET_DIR = \"model_dataset\"\n",
    "RANDOM_STATE = 42\n",
    "\n",
    "def eval_reg(y_true, y_pred):\n",
    "    # sklearn 구버전 호환 (squared 인자 없을 때)\n",
    "    try:\n",
    "        rmse = mean_squared_error(y_true, y_pred, squared=False)\n",
    "    except TypeError:\n",
    "        rmse = np.sqrt(mean_squared_error(y_true, y_pred))\n",
    "    mae  = mean_absolute_error(y_true, y_pred)\n",
    "    r2   = r2_score(y_true, y_pred)\n",
    "    return {\"RMSE\": rmse, \"MAE\": mae, \"R2\": r2}\n",
    "\n",
    "def build_preprocessor(num_cols, cat_cols):\n",
    "    num_pipe = Pipeline([\n",
    "        (\"imp\", SimpleImputer(strategy=\"median\")),\n",
    "        (\"scaler\", StandardScaler())\n",
    "    ])\n",
    "    cat_pipe = Pipeline([\n",
    "        (\"imp\", SimpleImputer(strategy=\"most_frequent\")),\n",
    "        (\"ohe\", OneHotEncoder(handle_unknown=\"ignore\", sparse_output=False))\n",
    "    ])\n",
    "    return ColumnTransformer([\n",
    "        (\"num\", num_pipe, num_cols),\n",
    "        (\"cat\", cat_pipe, cat_cols)\n",
    "    ])\n",
    "\n",
    "def main():\n",
    "    # 메타 & 데이터 로드\n",
    "    with open(f\"{MODEL_DATASET_DIR}/meta.json\", \"r\", encoding=\"utf-8\") as f:\n",
    "        meta = json.load(f)\n",
    "    cat_cols = meta[\"cat_cols\"]; num_cols = meta[\"num_cols\"]\n",
    "\n",
    "    X_train = pd.read_csv(f\"{MODEL_DATASET_DIR}/X_train.csv\")\n",
    "    y_train = pd.read_csv(f\"{MODEL_DATASET_DIR}/y_train.csv\").squeeze(\"columns\")\n",
    "    X_valid = pd.read_csv(f\"{MODEL_DATASET_DIR}/X_valid.csv\")\n",
    "    y_valid = pd.read_csv(f\"{MODEL_DATASET_DIR}/y_valid.csv\").squeeze(\"columns\")\n",
    "\n",
    "    preproc = build_preprocessor(num_cols, cat_cols)\n",
    "\n",
    "    # 후보 모델 & 그리드\n",
    "    models = {\n",
    "        #\"ridge\": (Ridge(), {\"clf__alpha\": [0.1, 1.0, 10.0, 100.0]}),\n",
    "        # \"rf\": (RandomForestRegressor(random_state=RANDOM_STATE), {\n",
    "        #     \"clf__n_estimators\": [300, 600],\n",
    "        #     \"clf__max_depth\": [None, 12, 20],\n",
    "        #     \"clf__min_samples_split\": [2, 5],\n",
    "        #     \"clf__min_samples_leaf\": [1, 2]\n",
    "        # })\n",
    "\n",
    "      \"rf\": (RandomForestRegressor(random_state=RANDOM_STATE), {\n",
    "      \"clf__n_estimators\": [200],\n",
    "      \"clf__max_depth\": [10],\n",
    "      \"clf__min_samples_split\": [2],\n",
    "      })\n",
    "  }\n",
    "\n",
    "    cv = KFold(n_splits=5, shuffle=True, random_state=RANDOM_STATE)\n",
    "\n",
    "    best = {\"name\": None, \"est\": None, \"key\": None, \"metrics\": None}\n",
    "    for name, (est, grid) in models.items():\n",
    "        pipe = Pipeline([(\"prep\", preproc), (\"clf\", est)])\n",
    "        gs = GridSearchCV(\n",
    "            pipe, grid, cv=cv,\n",
    "            scoring=\"neg_root_mean_squared_error\",\n",
    "            n_jobs=-1, refit=True\n",
    "        )\n",
    "        gs.fit(X_train, y_train)\n",
    "        pred = gs.best_estimator_.predict(X_valid)\n",
    "        metrics = eval_reg(y_valid, pred)\n",
    "        key = -metrics[\"RMSE\"]\n",
    "        print(f\"[{name}] valid: {metrics} | best_params: {gs.best_params_}\")\n",
    "        if (best[\"key\"] is None) or (key > best[\"key\"]):\n",
    "            best.update(name=name, est=gs.best_estimator_, key=key, metrics=metrics)\n",
    "\n",
    "    # 저장\n",
    "    joblib.dump(best[\"est\"], f\"{MODEL_DATASET_DIR}/crop_yield_model_2.joblib\")\n",
    "    with open(f\"{MODEL_DATASET_DIR}/best_summary.json\", \"w\") as f:\n",
    "        json.dump({\"best_model\": best[\"name\"], \"valid_metrics\": best[\"metrics\"]}, f, indent=2)\n",
    "\n",
    "    print(f\"\\n[Best] {best['name']} saved to artifacts/crop_yield_model.joblib\")\n",
    "    print(f\"Valid metrics: {best['metrics']}\")\n",
    "\n",
    "if __name__ == \"__main__\":\n",
    "    main()\n"
   ]
  },
  {
   "cell_type": "code",
   "execution_count": 88,
   "id": "32241975",
   "metadata": {},
   "outputs": [
    {
     "name": "stdout",
     "output_type": "stream",
     "text": [
      "<class 'statsmodels.regression.linear_model.RegressionResultsWrapper'>\n",
      "<class 'sklearn.ensemble._forest.RandomForestRegressor'>\n"
     ]
    }
   ],
   "source": [
    "print(type(model))      # 지금 TreeExplainer에 넣는 그 변수\n",
    "print(type(rf)) "
   ]
  },
  {
   "cell_type": "code",
   "execution_count": null,
   "id": "def9a2f5",
   "metadata": {},
   "outputs": [],
   "source": []
  },
  {
   "cell_type": "markdown",
   "id": "626a3fd0",
   "metadata": {},
   "source": [
    "97m 46.5s 걸림\n",
    "\n",
    "Ridge (4개 하이퍼파라미터 × 5-fold) 20회 학습  < 1분\n",
    "RandomForest (2×3×2×2 = 24 조합 × 5-fold) 120회 학습 약 15–25분\n",
    "전체 실행 병렬 n_jobs=-1 사용 시  약 10–20분 수준\n",
    "결과 저장 및 중요도 계산 추가 1–2분 전체 12–25분\n",
    "\n",
    "방법\t        설명\t효과\n",
    "🔸 n_jobs=-1\t이미 포함 — 모든 CPU 코어 병렬 사용\t필수\n",
    "🔸 n_estimators: 300 → 100\t트리 수 줄이기\t속도 3배 향상, 정확도 약간↓\n",
    "🔸 cv=3\t교차검증 5→3으로 축소\t속도 1.6배 향상\n",
    "🔸 데이터 샘플링\t예: X_train.sample(10000)\t탐색용 예비 실행에 유용\n",
    "🔸 RandomizedSearchCV\t하이퍼파라미터 조합 일부만 탐색\t3–5배 빠름\n",
    "🔸 GPU 사용 (XGBoost/LightGBM)\t대체 모델로 변경\t10배 이상 속도↑ 가능\n"
   ]
  },
  {
   "cell_type": "code",
   "execution_count": 76,
   "id": "fd354744",
   "metadata": {},
   "outputs": [
    {
     "name": "stdout",
     "output_type": "stream",
     "text": [
      "[Test] metrics: {'RMSE': np.float64(4.494680169029092), 'MAE': 2.623637687401638, 'R2': 0.9699984218445217}\n",
      "Permutation importance skipped: Length of values (17) does not match length of index (30)\n"
     ]
    }
   ],
   "source": [
    "# 03_validate.py — 테스트셋 성능 + 퍼뮤테이션 중요도\n",
    "# 03_validate.py\n",
    "import os, json, warnings\n",
    "warnings.filterwarnings(\"ignore\")\n",
    "\n",
    "import numpy as np, pandas as pd, joblib\n",
    "from sklearn.metrics import mean_squared_error, mean_absolute_error, r2_score\n",
    "from sklearn.inspection import permutation_importance\n",
    "\n",
    "MODEL_DATASET_DIR = \"model_dataset\"\n",
    "\n",
    "def eval_reg(y_true, y_pred):\n",
    "    try:\n",
    "        rmse = mean_squared_error(y_true, y_pred, squared=False)\n",
    "    except TypeError:\n",
    "        rmse = np.sqrt(mean_squared_error(y_true, y_pred))\n",
    "    mae  = mean_absolute_error(y_true, y_pred)\n",
    "    r2   = r2_score(y_true, y_pred)\n",
    "    return {\"RMSE\": rmse, \"MAE\": mae, \"R2\": r2}\n",
    "\n",
    "def main():\n",
    "    model = joblib.load(f\"{MODEL_DATASET_DIR}/crop_yield_model.joblib\")\n",
    "    X_test = pd.read_csv(f\"{MODEL_DATASET_DIR}/X_test.csv\")\n",
    "    y_test = pd.read_csv(f\"{MODEL_DATASET_DIR}/y_test.csv\").squeeze(\"columns\")\n",
    "\n",
    "    # 테스트 성능\n",
    "    y_pred = model.predict(X_test)\n",
    "    metrics = eval_reg(y_test, y_pred)\n",
    "    print(\"[Test] metrics:\", metrics)\n",
    "\n",
    "    # 퍼뮤테이션 중요도 (유효성 검증 세트가 더 적합하지만, 여기선 테스트로 예시)\n",
    "    try:\n",
    "        result = permutation_importance(model, X_test, y_test, n_repeats=5, random_state=42)\n",
    "        feat_names = model.named_steps[\"prep\"].get_feature_names_out()\n",
    "        importances = pd.Series(result.importances_mean, index=feat_names).sort_values(ascending=False)\n",
    "        print(\"\\nTop 15 features:\\n\", importances.head(15))\n",
    "        importances.head(50).to_csv(f\"{MODEL_DATASET_DIR}/feature_importance_top50.csv\")\n",
    "        print(\"\\n[OK] Saved feature importance to artifacts/feature_importance_top50.csv\")\n",
    "    except Exception as e:\n",
    "        print(\"Permutation importance skipped:\", e)\n",
    "\n",
    "if __name__ == \"__main__\":\n",
    "    main()\n"
   ]
  },
  {
   "cell_type": "markdown",
   "id": "093cf88f",
   "metadata": {},
   "source": [
    "모델 성능 지표 (Metrics)\n",
    "\n",
    "테스트 결과 모델의 예측 정확도는 다음과 같습니다:\n",
    "RMSE (Root Mean Squared Error) = 3.97\n",
    "→ 예측 오차의 평균 크기를 의미합니다. 값이 낮을수록 좋습니다.\n",
    "MAE (Mean Absolute Error) = 2.31\n",
    "→ 실제값과 예측값의 절대 차이의 평균입니다. RMSE보다 작은 이유는 큰 오차의 영향이 적기 때문입니다.\n",
    "R² (Coefficient of Determination) = 0.9766\n",
    "→ 모델이 실제 데이터를 얼마나 잘 설명하는지 보여주는 결정계수로, 1에 가까울수록 매우 좋은 모델임을 의미합니다.\n",
    "즉, 약 97.7%의 설명력을 가진 매우 우수한 모델입니다.\n",
    "\n",
    "경고 메시지 (Permutation importance skipped)\n",
    "\n",
    "\"Length of values (17) does not match length of index (30)\"\n",
    "이 경고는 특성 중요도(permutation importance) 계산 과정에서\n",
    "값의 길이(17)와 인덱스의 길이(30)가 일치하지 않아 계산이 건너뛰어졌다는 의미입니다.\n",
    "17개의 feature importance 값이 계산되었지만\n",
    "데이터프레임(또는 feature 리스트)에는 30개의 feature 이름이 있어서\n",
    "길이가 맞지 않아 매핑에 실패한 것입니다.\n",
    "\n",
    "해결 방법\n",
    "특성(feature) 개수 확인:\n",
    "print(len(X.columns))  # 실제 feature 개수\n",
    "\n",
    "Permutation importance 계산 시 동일한 X 사용:\n",
    "from sklearn.inspection import permutation_importance\n",
    "result = permutation_importance(model, X_test, y_test)\n",
    "→ 학습에 사용한 feature와 동일한 순서/길이의 X를 사용해야 합니다.\n",
    "\n",
    "\n",
    "혹시 X_test를 전처리(예: 인코딩, 스케일링)한 후 feature 수가 달라졌다면,\n",
    "feature 이름과 변환된 컬럼 수를 일치시켜야 합니다.\n",
    "\n",
    "모델 성능은 매우 좋지만,\n",
    "특성 중요도 계산 시 feature 개수 불일치로 인해 계산이 생략되었습니다."
   ]
  },
  {
   "cell_type": "code",
   "execution_count": 85,
   "id": "1fbd1722",
   "metadata": {},
   "outputs": [
    {
     "name": "stdout",
     "output_type": "stream",
     "text": [
      "<class 'statsmodels.regression.linear_model.RegressionResultsWrapper'>\n",
      "<class 'sklearn.ensemble._forest.RandomForestRegressor'>\n"
     ]
    }
   ],
   "source": [
    "print(type(model))      # 지금 TreeExplainer에 넣는 그 변수\n",
    "print(type(rf)) "
   ]
  },
  {
   "cell_type": "code",
   "execution_count": 89,
   "id": "59d7e9ab",
   "metadata": {},
   "outputs": [
    {
     "ename": "InvalidModelError",
     "evalue": "Model type not yet supported by TreeExplainer: <class 'statsmodels.regression.linear_model.RegressionResultsWrapper'>",
     "output_type": "error",
     "traceback": [
      "\u001b[31m---------------------------------------------------------------------------\u001b[39m",
      "\u001b[31mInvalidModelError\u001b[39m                         Traceback (most recent call last)",
      "\u001b[36mCell\u001b[39m\u001b[36m \u001b[39m\u001b[32mIn[89]\u001b[39m\u001b[32m, line 3\u001b[39m\n\u001b[32m      1\u001b[39m \u001b[38;5;28;01mimport\u001b[39;00m\u001b[38;5;250m \u001b[39m\u001b[34;01mshap\u001b[39;00m\n\u001b[32m      2\u001b[39m \u001b[38;5;66;03m# model: RandomForestRegressor\u001b[39;00m\n\u001b[32m----> \u001b[39m\u001b[32m3\u001b[39m explainer = \u001b[43mshap\u001b[49m\u001b[43m.\u001b[49m\u001b[43mTreeExplainer\u001b[49m\u001b[43m(\u001b[49m\u001b[43mmodel\u001b[49m\u001b[43m)\u001b[49m\n\u001b[32m      4\u001b[39m shap_values = explainer.shap_values(X_test)\n\u001b[32m      5\u001b[39m shap.summary_plot(shap_values, X_test)\n",
      "\u001b[36mFile \u001b[39m\u001b[32mc:\\Lincolnuni\\COMP_647\\project\\1158238\\.venv\\Lib\\site-packages\\shap\\explainers\\_tree.py:278\u001b[39m, in \u001b[36mTreeExplainer.__init__\u001b[39m\u001b[34m(self, model, data, model_output, feature_perturbation, feature_names, approximate, link, linearize_link)\u001b[39m\n\u001b[32m    276\u001b[39m \u001b[38;5;28mself\u001b[39m.feature_perturbation = feature_perturbation\n\u001b[32m    277\u001b[39m \u001b[38;5;28mself\u001b[39m.expected_value = \u001b[38;5;28;01mNone\u001b[39;00m\n\u001b[32m--> \u001b[39m\u001b[32m278\u001b[39m \u001b[38;5;28mself\u001b[39m.model = \u001b[43mTreeEnsemble\u001b[49m\u001b[43m(\u001b[49m\u001b[43mmodel\u001b[49m\u001b[43m,\u001b[49m\u001b[43m \u001b[49m\u001b[38;5;28;43mself\u001b[39;49m\u001b[43m.\u001b[49m\u001b[43mdata\u001b[49m\u001b[43m,\u001b[49m\u001b[43m \u001b[49m\u001b[38;5;28;43mself\u001b[39;49m\u001b[43m.\u001b[49m\u001b[43mdata_missing\u001b[49m\u001b[43m,\u001b[49m\u001b[43m \u001b[49m\u001b[43mmodel_output\u001b[49m\u001b[43m)\u001b[49m\n\u001b[32m    279\u001b[39m \u001b[38;5;28mself\u001b[39m.model_output = model_output\n\u001b[32m    280\u001b[39m \u001b[38;5;66;03m# self.model_output = self.model.model_output # this allows the TreeEnsemble to translate model outputs types by how it loads the model\u001b[39;00m\n\u001b[32m    281\u001b[39m \n\u001b[32m    282\u001b[39m \u001b[38;5;66;03m# check for unsupported combinations of feature_perturbation and model_outputs\u001b[39;00m\n",
      "\u001b[36mFile \u001b[39m\u001b[32mc:\\Lincolnuni\\COMP_647\\project\\1158238\\.venv\\Lib\\site-packages\\shap\\explainers\\_tree.py:1442\u001b[39m, in \u001b[36mTreeEnsemble.__init__\u001b[39m\u001b[34m(self, model, data, data_missing, model_output)\u001b[39m\n\u001b[32m   1440\u001b[39m     \u001b[38;5;28mself\u001b[39m.base_offset = model.init_params[param_idx]\n\u001b[32m   1441\u001b[39m \u001b[38;5;28;01melse\u001b[39;00m:\n\u001b[32m-> \u001b[39m\u001b[32m1442\u001b[39m     \u001b[38;5;28;01mraise\u001b[39;00m InvalidModelError(\u001b[33m\"\u001b[39m\u001b[33mModel type not yet supported by TreeExplainer: \u001b[39m\u001b[33m\"\u001b[39m + \u001b[38;5;28mstr\u001b[39m(\u001b[38;5;28mtype\u001b[39m(model)))\n\u001b[32m   1444\u001b[39m \u001b[38;5;66;03m# build a dense numpy version of all the tree objects\u001b[39;00m\n\u001b[32m   1445\u001b[39m \u001b[38;5;28;01mif\u001b[39;00m \u001b[38;5;28mself\u001b[39m.trees \u001b[38;5;129;01mis\u001b[39;00m \u001b[38;5;129;01mnot\u001b[39;00m \u001b[38;5;28;01mNone\u001b[39;00m \u001b[38;5;129;01mand\u001b[39;00m \u001b[38;5;28mself\u001b[39m.trees:\n",
      "\u001b[31mInvalidModelError\u001b[39m: Model type not yet supported by TreeExplainer: <class 'statsmodels.regression.linear_model.RegressionResultsWrapper'>"
     ]
    }
   ],
   "source": [
    "import shap\n",
    "# model: RandomForestRegressor\n",
    "explainer = shap.TreeExplainer(model)\n",
    "shap_values = explainer.shap_values(X_test)\n",
    "shap.summary_plot(shap_values, X_test)"
   ]
  },
  {
   "cell_type": "code",
   "execution_count": 78,
   "id": "e30b5608",
   "metadata": {},
   "outputs": [
    {
     "ename": "InvalidModelError",
     "evalue": "Model type not yet supported by TreeExplainer: <class 'statsmodels.regression.linear_model.RegressionResultsWrapper'>",
     "output_type": "error",
     "traceback": [
      "\u001b[31m---------------------------------------------------------------------------\u001b[39m",
      "\u001b[31mInvalidModelError\u001b[39m                         Traceback (most recent call last)",
      "\u001b[36mCell\u001b[39m\u001b[36m \u001b[39m\u001b[32mIn[78]\u001b[39m\u001b[32m, line 3\u001b[39m\n\u001b[32m      1\u001b[39m \u001b[38;5;28;01mimport\u001b[39;00m\u001b[38;5;250m \u001b[39m\u001b[34;01mshap\u001b[39;00m\n\u001b[32m      2\u001b[39m \u001b[38;5;66;03m# model: RandomForestRegressor 등 트리 계열\u001b[39;00m\n\u001b[32m----> \u001b[39m\u001b[32m3\u001b[39m explainer = \u001b[43mshap\u001b[49m\u001b[43m.\u001b[49m\u001b[43mTreeExplainer\u001b[49m\u001b[43m(\u001b[49m\u001b[43mmodel\u001b[49m\u001b[43m)\u001b[49m\n\u001b[32m      4\u001b[39m shap_values = explainer.shap_values(X_test)\n\u001b[32m      5\u001b[39m shap.summary_plot(shap_values, X_test)\n",
      "\u001b[36mFile \u001b[39m\u001b[32mc:\\Lincolnuni\\COMP_647\\project\\1158238\\.venv\\Lib\\site-packages\\shap\\explainers\\_tree.py:278\u001b[39m, in \u001b[36mTreeExplainer.__init__\u001b[39m\u001b[34m(self, model, data, model_output, feature_perturbation, feature_names, approximate, link, linearize_link)\u001b[39m\n\u001b[32m    276\u001b[39m \u001b[38;5;28mself\u001b[39m.feature_perturbation = feature_perturbation\n\u001b[32m    277\u001b[39m \u001b[38;5;28mself\u001b[39m.expected_value = \u001b[38;5;28;01mNone\u001b[39;00m\n\u001b[32m--> \u001b[39m\u001b[32m278\u001b[39m \u001b[38;5;28mself\u001b[39m.model = \u001b[43mTreeEnsemble\u001b[49m\u001b[43m(\u001b[49m\u001b[43mmodel\u001b[49m\u001b[43m,\u001b[49m\u001b[43m \u001b[49m\u001b[38;5;28;43mself\u001b[39;49m\u001b[43m.\u001b[49m\u001b[43mdata\u001b[49m\u001b[43m,\u001b[49m\u001b[43m \u001b[49m\u001b[38;5;28;43mself\u001b[39;49m\u001b[43m.\u001b[49m\u001b[43mdata_missing\u001b[49m\u001b[43m,\u001b[49m\u001b[43m \u001b[49m\u001b[43mmodel_output\u001b[49m\u001b[43m)\u001b[49m\n\u001b[32m    279\u001b[39m \u001b[38;5;28mself\u001b[39m.model_output = model_output\n\u001b[32m    280\u001b[39m \u001b[38;5;66;03m# self.model_output = self.model.model_output # this allows the TreeEnsemble to translate model outputs types by how it loads the model\u001b[39;00m\n\u001b[32m    281\u001b[39m \n\u001b[32m    282\u001b[39m \u001b[38;5;66;03m# check for unsupported combinations of feature_perturbation and model_outputs\u001b[39;00m\n",
      "\u001b[36mFile \u001b[39m\u001b[32mc:\\Lincolnuni\\COMP_647\\project\\1158238\\.venv\\Lib\\site-packages\\shap\\explainers\\_tree.py:1442\u001b[39m, in \u001b[36mTreeEnsemble.__init__\u001b[39m\u001b[34m(self, model, data, data_missing, model_output)\u001b[39m\n\u001b[32m   1440\u001b[39m     \u001b[38;5;28mself\u001b[39m.base_offset = model.init_params[param_idx]\n\u001b[32m   1441\u001b[39m \u001b[38;5;28;01melse\u001b[39;00m:\n\u001b[32m-> \u001b[39m\u001b[32m1442\u001b[39m     \u001b[38;5;28;01mraise\u001b[39;00m InvalidModelError(\u001b[33m\"\u001b[39m\u001b[33mModel type not yet supported by TreeExplainer: \u001b[39m\u001b[33m\"\u001b[39m + \u001b[38;5;28mstr\u001b[39m(\u001b[38;5;28mtype\u001b[39m(model)))\n\u001b[32m   1444\u001b[39m \u001b[38;5;66;03m# build a dense numpy version of all the tree objects\u001b[39;00m\n\u001b[32m   1445\u001b[39m \u001b[38;5;28;01mif\u001b[39;00m \u001b[38;5;28mself\u001b[39m.trees \u001b[38;5;129;01mis\u001b[39;00m \u001b[38;5;129;01mnot\u001b[39;00m \u001b[38;5;28;01mNone\u001b[39;00m \u001b[38;5;129;01mand\u001b[39;00m \u001b[38;5;28mself\u001b[39m.trees:\n",
      "\u001b[31mInvalidModelError\u001b[39m: Model type not yet supported by TreeExplainer: <class 'statsmodels.regression.linear_model.RegressionResultsWrapper'>"
     ]
    }
   ],
   "source": [
    "import shap\n",
    "# model: RandomForestRegressor 등 트리 계열\n",
    "explainer = shap.TreeExplainer(model)\n",
    "shap_values = explainer.shap_values(X_test)\n",
    "shap.summary_plot(shap_values, X_test)"
   ]
  }
 ],
 "metadata": {
  "kernelspec": {
   "display_name": ".venv",
   "language": "python",
   "name": "python3"
  },
  "language_info": {
   "codemirror_mode": {
    "name": "ipython",
    "version": 3
   },
   "file_extension": ".py",
   "mimetype": "text/x-python",
   "name": "python",
   "nbconvert_exporter": "python",
   "pygments_lexer": "ipython3",
   "version": "3.13.0"
  }
 },
 "nbformat": 4,
 "nbformat_minor": 5
}
